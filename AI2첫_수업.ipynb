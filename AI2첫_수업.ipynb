{
  "nbformat": 4,
  "nbformat_minor": 0,
  "metadata": {
    "colab": {
      "provenance": [],
      "gpuType": "T4",
      "authorship_tag": "ABX9TyMU+ZHK+HcQaUC8Gjqw64JQ",
      "include_colab_link": true
    },
    "kernelspec": {
      "name": "python3",
      "display_name": "Python 3"
    },
    "language_info": {
      "name": "python"
    },
    "accelerator": "GPU"
  },
  "cells": [
    {
      "cell_type": "markdown",
      "metadata": {
        "id": "view-in-github",
        "colab_type": "text"
      },
      "source": [
        "<a href=\"https://colab.research.google.com/github/YonggunJung/AI2_Ploy/blob/main/AI2%EC%B2%AB_%EC%88%98%EC%97%85.ipynb\" target=\"_parent\"><img src=\"https://colab.research.google.com/assets/colab-badge.svg\" alt=\"Open In Colab\"/></a>"
      ]
    },
    {
      "cell_type": "code",
      "execution_count": null,
      "metadata": {
        "colab": {
          "base_uri": "https://localhost:8080/"
        },
        "id": "O9h8kuras07r",
        "outputId": "139f89e0-d163-446a-ef5a-acf3daef0b38"
      },
      "outputs": [
        {
          "output_type": "stream",
          "name": "stdout",
          "text": [
            "Hello, Deeplearning!\n"
          ]
        }
      ],
      "source": [
        "print('Hello, Deeplearning!')"
      ]
    },
    {
      "cell_type": "markdown",
      "source": [
        "# 설명\n",
        "이나\n",
        "## 주석"
      ],
      "metadata": {
        "id": "ZnBSquLDxWbW"
      }
    },
    {
      "cell_type": "code",
      "source": [
        "import tensorflow as tf\n",
        "print(tf.__version__)"
      ],
      "metadata": {
        "id": "4n7wGPmSvQIH",
        "colab": {
          "base_uri": "https://localhost:8080/"
        },
        "outputId": "038b813a-223c-47fe-fd05-2d807c9bf289"
      },
      "execution_count": null,
      "outputs": [
        {
          "output_type": "stream",
          "name": "stdout",
          "text": [
            "2.15.0\n"
          ]
        }
      ]
    },
    {
      "cell_type": "markdown",
      "source": [
        "# 모두의 딥러닝1\n",
        "## 모두의 딥러닝2\n",
        "### 모두의 딥러닝3\n",
        "#### 모두의 딥러닝4\n",
        "##### 모두의 딥러닝5\n",
        "###### 모두의 딥러닝6  5개나 6개나 같다"
      ],
      "metadata": {
        "id": "ycVNkkZMyQQ2"
      }
    },
    {
      "cell_type": "code",
      "source": [],
      "metadata": {
        "id": "jJ0PVfQ-yhbA"
      },
      "execution_count": null,
      "outputs": []
    }
  ]
}