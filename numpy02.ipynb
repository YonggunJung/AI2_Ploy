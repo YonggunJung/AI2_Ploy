{
 "cells": [
  {
   "cell_type": "code",
   "execution_count": 2,
   "id": "dd5bbc36-d016-4c7e-b672-f7cd23c6b2e3",
   "metadata": {},
   "outputs": [],
   "source": [
    "import numpy as np"
   ]
  },
  {
   "cell_type": "code",
   "execution_count": 3,
   "id": "e368c31a-a424-44f8-a194-cc20a57e5b46",
   "metadata": {},
   "outputs": [
    {
     "data": {
      "text/plain": [
       "array([[ 0,  1,  2,  3],\n",
       "       [ 4,  5,  6,  7],\n",
       "       [ 8,  9, 10, 11]])"
      ]
     },
     "execution_count": 3,
     "metadata": {},
     "output_type": "execute_result"
    }
   ],
   "source": [
    "x = np.arange(12).reshape(3,4)\n",
    "x"
   ]
  },
  {
   "cell_type": "code",
   "execution_count": 6,
   "id": "d56dab45-349d-4448-89f8-81ecf1534d23",
   "metadata": {},
   "outputs": [
    {
     "data": {
      "text/plain": [
       "array([[1, 1, 1, 1],\n",
       "       [1, 1, 1, 1],\n",
       "       [1, 1, 1, 1]])"
      ]
     },
     "execution_count": 6,
     "metadata": {},
     "output_type": "execute_result"
    }
   ],
   "source": [
    "# x와 같은 shape를 가진 배열을 1로 채워라\n",
    "np.ones_like(x)"
   ]
  },
  {
   "cell_type": "code",
   "execution_count": 7,
   "id": "16eccf0c-0b77-4778-bea5-3b9385f279a4",
   "metadata": {},
   "outputs": [
    {
     "data": {
      "text/plain": [
       "array([[0, 0, 0, 0],\n",
       "       [0, 0, 0, 0],\n",
       "       [0, 0, 0, 0]])"
      ]
     },
     "execution_count": 7,
     "metadata": {},
     "output_type": "execute_result"
    }
   ],
   "source": [
    "# x와 같은 shape를 가진 배열을 0으로 채워라\n",
    "np.zeros_like(x)"
   ]
  },
  {
   "cell_type": "code",
   "execution_count": 10,
   "id": "297b0d57-08e0-45a5-80c0-706ac00088a8",
   "metadata": {},
   "outputs": [
    {
     "data": {
      "text/plain": [
       "array([[1, 0, 0],\n",
       "       [0, 1, 0],\n",
       "       [0, 0, 1]])"
      ]
     },
     "execution_count": 10,
     "metadata": {},
     "output_type": "execute_result"
    }
   ],
   "source": [
    "# identity 단위 행렬, 매개변수 n으로 n×n 단위행렬을 생성\n",
    "# 이런 형식으로 나옴\n",
    "np.identity(n=3, dtype=int)"
   ]
  },
  {
   "cell_type": "code",
   "execution_count": 11,
   "id": "dfc3319c-34eb-42f4-9011-a150390b3f2b",
   "metadata": {},
   "outputs": [
    {
     "data": {
      "text/plain": [
       "array([[1, 0, 0, 0],\n",
       "       [0, 1, 0, 0],\n",
       "       [0, 0, 1, 0],\n",
       "       [0, 0, 0, 1]])"
      ]
     },
     "execution_count": 11,
     "metadata": {},
     "output_type": "execute_result"
    }
   ],
   "source": [
    "np.identity(n=4, dtype=int)"
   ]
  },
  {
   "cell_type": "code",
   "execution_count": 12,
   "id": "6c54aea6-1ca5-4c55-8186-1f4d97b33b7d",
   "metadata": {},
   "outputs": [
    {
     "data": {
      "text/plain": [
       "array([[1., 0., 0., 0., 0.],\n",
       "       [0., 1., 0., 0., 0.],\n",
       "       [0., 0., 1., 0., 0.]])"
      ]
     },
     "execution_count": 12,
     "metadata": {},
     "output_type": "execute_result"
    }
   ],
   "source": [
    "# eye 함수 : 시작점과 행렬 크기를 지정, 단위행렬 생성 N은 행의 개수, M은 열의 개수를 지정, k는 열의 값을 기준으로 시작 인덱스\n",
    "np.eye(N=3, M=5)"
   ]
  },
  {
   "cell_type": "code",
   "execution_count": 13,
   "id": "7ac86158-5c88-499a-a4cd-cebd0e74e4ba",
   "metadata": {},
   "outputs": [
    {
     "data": {
      "text/plain": [
       "array([[0., 0., 1., 0., 0.],\n",
       "       [0., 0., 0., 1., 0.],\n",
       "       [0., 0., 0., 0., 1.]])"
      ]
     },
     "execution_count": 13,
     "metadata": {},
     "output_type": "execute_result"
    }
   ],
   "source": [
    "np.eye(N=3, M=5, k=2)"
   ]
  },
  {
   "cell_type": "code",
   "execution_count": 14,
   "id": "23ea6dbc-7fcd-4428-9de1-d0a5e8383de7",
   "metadata": {},
   "outputs": [
    {
     "data": {
      "text/plain": [
       "array([[0, 1, 2],\n",
       "       [3, 4, 5],\n",
       "       [6, 7, 8]])"
      ]
     },
     "execution_count": 14,
     "metadata": {},
     "output_type": "execute_result"
    }
   ],
   "source": [
    "#  diag 함수 : 행렬의 대각성분 값을 추출\n",
    "matrix = np.arange(9).reshape(3,3)\n",
    "matrix"
   ]
  },
  {
   "cell_type": "code",
   "execution_count": 15,
   "id": "8a2e83d8-4921-4576-8261-37c796a1140c",
   "metadata": {},
   "outputs": [
    {
     "data": {
      "text/plain": [
       "array([0, 4, 8])"
      ]
     },
     "execution_count": 15,
     "metadata": {},
     "output_type": "execute_result"
    }
   ],
   "source": [
    "np.diag(matrix)"
   ]
  },
  {
   "cell_type": "code",
   "execution_count": 16,
   "id": "20c1df86-d897-4554-b0cf-c3edbb17d971",
   "metadata": {},
   "outputs": [
    {
     "data": {
      "text/plain": [
       "array([1, 5])"
      ]
     },
     "execution_count": 16,
     "metadata": {},
     "output_type": "execute_result"
    }
   ],
   "source": [
    "np.diag(matrix, k=1)"
   ]
  },
  {
   "cell_type": "code",
   "execution_count": 22,
   "id": "c156a716-ff72-4d5f-b3c4-20825e3ee998",
   "metadata": {},
   "outputs": [
    {
     "data": {
      "text/plain": [
       "array([0.25494904, 2.1741694 , 4.41494113, 3.09833655, 0.7936191 ,\n",
       "       4.47726956, 1.86522976, 4.94898641, 3.18479757, 2.46995618])"
      ]
     },
     "execution_count": 22,
     "metadata": {},
     "output_type": "execute_result"
    }
   ],
   "source": [
    "# uniform 함수 : 균등분포 함수, np.random.uniform(시작값, 끝값, 데이터개수)’\n",
    "np.random.uniform(0, 5, 10)"
   ]
  },
  {
   "cell_type": "code",
   "execution_count": 28,
   "id": "fc896612-b1b4-437f-809c-9ef32adc440d",
   "metadata": {},
   "outputs": [
    {
     "data": {
      "text/plain": [
       "array([ 2.22555746, -0.00737011, -1.31111906, -1.14815278,  4.55147825,\n",
       "       -0.29200901, -2.82798422, -0.40947747,  0.9267643 , -0.86608383])"
      ]
     },
     "execution_count": 28,
     "metadata": {},
     "output_type": "execute_result"
    }
   ],
   "source": [
    "#  normal 함수 : 정규분포 함수, np.random.normal(평균값, 분산, 데이터개수)’\n",
    "np.random.normal(0, 2, 10)"
   ]
  },
  {
   "cell_type": "code",
   "execution_count": 29,
   "id": "d1722f29-7dca-4621-abfa-793e1823a146",
   "metadata": {},
   "outputs": [
    {
     "data": {
      "text/plain": [
       "55"
      ]
     },
     "execution_count": 29,
     "metadata": {},
     "output_type": "execute_result"
    }
   ],
   "source": [
    "import numpy as np\n",
    "test_array = np.arange(1, 11)\n",
    "test_array.sum()"
   ]
  },
  {
   "cell_type": "code",
   "execution_count": 30,
   "id": "95c47425-f816-4bec-9bfc-9a637ed29ae3",
   "metadata": {},
   "outputs": [
    {
     "data": {
      "text/plain": [
       "array([[ 1,  2,  3,  4],\n",
       "       [ 5,  6,  7,  8],\n",
       "       [ 9, 10, 11, 12]])"
      ]
     },
     "execution_count": 30,
     "metadata": {},
     "output_type": "execute_result"
    }
   ],
   "source": [
    "test_array = np.arange(1,13).reshape(3,4)\n",
    "test_array"
   ]
  },
  {
   "cell_type": "code",
   "execution_count": 35,
   "id": "191eaae3-4a96-4e82-9d38-92bff6b6a615",
   "metadata": {},
   "outputs": [
    {
     "data": {
      "text/plain": [
       "array([15, 18, 21, 24])"
      ]
     },
     "execution_count": 35,
     "metadata": {},
     "output_type": "execute_result"
    }
   ],
   "source": [
    "# axis 0이면 x축 방향(가로줄끼리 더한다)\n",
    "test_array.sum(axis=0)"
   ]
  },
  {
   "cell_type": "code",
   "execution_count": 36,
   "id": "ef11ec81-fbd8-4d33-a802-ca4309bd0351",
   "metadata": {},
   "outputs": [
    {
     "data": {
      "text/plain": [
       "array([10, 26, 42])"
      ]
     },
     "execution_count": 36,
     "metadata": {},
     "output_type": "execute_result"
    }
   ],
   "source": [
    "# axis 0이면 y축(세로줄끼리 더한다.)\n",
    "test_array.sum(axis=1)"
   ]
  },
  {
   "cell_type": "code",
   "execution_count": 37,
   "id": "3b593d7d-38ea-47ce-b98e-b88b2d648b0e",
   "metadata": {},
   "outputs": [
    {
     "data": {
      "text/plain": [
       "array([[[ 1,  2,  3,  4],\n",
       "        [ 5,  6,  7,  8],\n",
       "        [ 9, 10, 11, 12]],\n",
       "\n",
       "       [[ 1,  2,  3,  4],\n",
       "        [ 5,  6,  7,  8],\n",
       "        [ 9, 10, 11, 12]],\n",
       "\n",
       "       [[ 1,  2,  3,  4],\n",
       "        [ 5,  6,  7,  8],\n",
       "        [ 9, 10, 11, 12]]])"
      ]
     },
     "execution_count": 37,
     "metadata": {},
     "output_type": "execute_result"
    }
   ],
   "source": [
    "# 3차원배열\n",
    "test_array = np.arange(1, 13).reshape(3, 4)\n",
    "third_order_tensor = np.array([test_array,test_array, test_array])\n",
    "third_order_tensor"
   ]
  },
  {
   "cell_type": "code",
   "execution_count": 38,
   "id": "a328bd89-dd68-4388-959c-dd11259f5674",
   "metadata": {},
   "outputs": [
    {
     "data": {
      "text/plain": [
       "array([[ 3,  6,  9, 12],\n",
       "       [15, 18, 21, 24],\n",
       "       [27, 30, 33, 36]])"
      ]
     },
     "execution_count": 38,
     "metadata": {},
     "output_type": "execute_result"
    }
   ],
   "source": [
    "# 3차원 배열의 axis 0은 z축(다른집 같은자리끼리 더한다)\n",
    "third_order_tensor.sum(axis=0)"
   ]
  },
  {
   "cell_type": "code",
   "execution_count": 39,
   "id": "27969f41-6f1f-4e08-a1e8-a90b48dc7fcf",
   "metadata": {},
   "outputs": [
    {
     "data": {
      "text/plain": [
       "array([[15, 18, 21, 24],\n",
       "       [15, 18, 21, 24],\n",
       "       [15, 18, 21, 24]])"
      ]
     },
     "execution_count": 39,
     "metadata": {},
     "output_type": "execute_result"
    }
   ],
   "source": [
    "# 3차원 배열의 axis 1은 y축(세로줄끼리 더한다.)\n",
    "third_order_tensor.sum(axis=1)"
   ]
  },
  {
   "cell_type": "code",
   "execution_count": 41,
   "id": "f3c3b06a-5537-45bb-ab4f-0a7604bf3878",
   "metadata": {},
   "outputs": [
    {
     "data": {
      "text/plain": [
       "array([[10, 26, 42],\n",
       "       [10, 26, 42],\n",
       "       [10, 26, 42]])"
      ]
     },
     "execution_count": 41,
     "metadata": {},
     "output_type": "execute_result"
    }
   ],
   "source": [
    "# 3차원 배열의 axis 2는 x축(가로줄끼리 더한다)\n",
    "third_order_tensor.sum(axis=2)"
   ]
  },
  {
   "cell_type": "code",
   "execution_count": 42,
   "id": "1e870147-0083-45ae-926e-d4735046eaa2",
   "metadata": {},
   "outputs": [
    {
     "data": {
      "text/plain": [
       "array([[ 1,  2,  3,  4],\n",
       "       [ 5,  6,  7,  8],\n",
       "       [ 9, 10, 11, 12]])"
      ]
     },
     "execution_count": 42,
     "metadata": {},
     "output_type": "execute_result"
    }
   ],
   "source": [
    "test_array = np.arange(1, 13).reshape(3, 4)\n",
    "test_array"
   ]
  },
  {
   "cell_type": "code",
   "execution_count": 43,
   "id": "16f0698d-cb39-4385-abee-0e439221b0fc",
   "metadata": {},
   "outputs": [
    {
     "data": {
      "text/plain": [
       "array([ 2.5,  6.5, 10.5])"
      ]
     },
     "execution_count": 43,
     "metadata": {},
     "output_type": "execute_result"
    }
   ],
   "source": [
    "test_array.mean(axis=1)"
   ]
  },
  {
   "cell_type": "code",
   "execution_count": 44,
   "id": "c7093e89-1074-4d07-810f-8b164ec97152",
   "metadata": {},
   "outputs": [
    {
     "data": {
      "text/plain": [
       "3.452052529534663"
      ]
     },
     "execution_count": 44,
     "metadata": {},
     "output_type": "execute_result"
    }
   ],
   "source": [
    "test_array.std() # 전체 값에 대한 표준편차 연산"
   ]
  },
  {
   "cell_type": "code",
   "execution_count": 45,
   "id": "9b6fc591-6d3b-49e0-85e7-132f4f6deb20",
   "metadata": {},
   "outputs": [
    {
     "data": {
      "text/plain": [
       "array([3.26598632, 3.26598632, 3.26598632, 3.26598632])"
      ]
     },
     "execution_count": 45,
     "metadata": {},
     "output_type": "execute_result"
    }
   ],
   "source": [
    "test_array.std(axis=0)"
   ]
  },
  {
   "cell_type": "code",
   "execution_count": 47,
   "id": "2983ed6f-551b-4c74-9fc8-6c73af97f4da",
   "metadata": {},
   "outputs": [
    {
     "data": {
      "text/plain": [
       "array([[1.        , 1.41421356, 1.73205081, 2.        ],\n",
       "       [2.23606798, 2.44948974, 2.64575131, 2.82842712],\n",
       "       [3.        , 3.16227766, 3.31662479, 3.46410162]])"
      ]
     },
     "execution_count": 47,
     "metadata": {},
     "output_type": "execute_result"
    }
   ],
   "source": [
    "np.sqrt(test_array) # 각 요소에 제곱근 연산 수행(square root)"
   ]
  },
  {
   "cell_type": "code",
   "execution_count": 50,
   "id": "ea6059dc-5f3d-4fa9-a389-74d14124c004",
   "metadata": {},
   "outputs": [
    {
     "data": {
      "text/plain": [
       "array([[1, 2, 3],\n",
       "       [4, 5, 6]])"
      ]
     },
     "execution_count": 50,
     "metadata": {},
     "output_type": "execute_result"
    }
   ],
   "source": [
    "# vstack 함수 : 배열을 수직으로 붙여 하나의 행렬을 생성\n",
    "v1 = np.array([1, 2, 3])\n",
    "v2 = np.array([4, 5, 6])\n",
    "np.vstack((v1, v2))"
   ]
  },
  {
   "cell_type": "code",
   "execution_count": 54,
   "id": "ee86cc1f-74f8-4aef-9d78-14afdc0ef29b",
   "metadata": {},
   "outputs": [
    {
     "data": {
      "text/plain": [
       "array([1, 2, 3, 4, 5, 6])"
      ]
     },
     "execution_count": 54,
     "metadata": {},
     "output_type": "execute_result"
    }
   ],
   "source": [
    "# hstack 함수 : 배열을 수평으로 붙여 하나의 행렬을 생성\n",
    "np.hstack((v1,v2))"
   ]
  },
  {
   "cell_type": "code",
   "execution_count": 57,
   "id": "22c0e4b2-3738-478c-8129-9b5448caedaa",
   "metadata": {},
   "outputs": [
    {
     "data": {
      "text/plain": [
       "array([[1],\n",
       "       [2],\n",
       "       [3]])"
      ]
     },
     "execution_count": 57,
     "metadata": {},
     "output_type": "execute_result"
    }
   ],
   "source": [
    "v1 = v1.reshape(-1, 1)\n",
    "v2 = v2.reshape(-1, 1)\n",
    "v1"
   ]
  },
  {
   "cell_type": "code",
   "execution_count": 56,
   "id": "6305d5f8-e219-4189-923f-378604c06287",
   "metadata": {},
   "outputs": [
    {
     "data": {
      "text/plain": [
       "array([[1, 4],\n",
       "       [2, 5],\n",
       "       [3, 6]])"
      ]
     },
     "execution_count": 56,
     "metadata": {},
     "output_type": "execute_result"
    }
   ],
   "source": [
    "np.hstack((v1,v2))"
   ]
  },
  {
   "cell_type": "code",
   "execution_count": 63,
   "id": "628fa2d0-988a-4a6a-8acf-376542224f55",
   "metadata": {},
   "outputs": [
    {
     "data": {
      "text/plain": [
       "array([[1, 2, 3],\n",
       "       [4, 5, 6]])"
      ]
     },
     "execution_count": 63,
     "metadata": {},
     "output_type": "execute_result"
    }
   ],
   "source": [
    "# concatenate 함수 : 축을 고려하여 두 개의 배열을 결합\n",
    "v1 = np.array([[1, 2, 3]])\n",
    "v2 = np.array([[4, 5, 6]])\n",
    "np.concatenate((v1,v2), axis=0)\n",
    "# axis = 0은 y축으로 붙임 union느낌"
   ]
  },
  {
   "cell_type": "code",
   "execution_count": 61,
   "id": "312dd8a9-f0f0-4791-ba6c-f77da2cfae2c",
   "metadata": {},
   "outputs": [
    {
     "data": {
      "text/plain": [
       "array([[5],\n",
       "       [6]])"
      ]
     },
     "execution_count": 61,
     "metadata": {},
     "output_type": "execute_result"
    }
   ],
   "source": [
    "v1 = np.array([1, 2, 3, 4]).reshape(2,2)\n",
    "v2 = np.array([[5,6]]).T\n",
    "v2"
   ]
  },
  {
   "cell_type": "code",
   "execution_count": 64,
   "id": "ccdd1d24-c9a7-4597-b339-ff839cdf36cc",
   "metadata": {},
   "outputs": [
    {
     "data": {
      "text/plain": [
       "array([[1, 2, 3, 4, 5, 6]])"
      ]
     },
     "execution_count": 64,
     "metadata": {},
     "output_type": "execute_result"
    }
   ],
   "source": [
    "# axis = 1은 x축으로 붙임 join느낌\n",
    "np.concatenate((v1,v2), axis=1)"
   ]
  },
  {
   "attachments": {},
   "cell_type": "markdown",
   "id": "50936399-decd-4ca1-b8bf-a98bc20a1d88",
   "metadata": {},
   "source": [
    "## 사칙연산 함수\n",
    "### 같은 배열의 구조일 때 요소별 연산(element-wise operation)\n",
    " -요소별 연산 : 두 배열의 구조가 동일할 경우 같은 인덱스 요소들끼리 연산"
   ]
  },
  {
   "cell_type": "code",
   "execution_count": 65,
   "id": "76c8b8eb-42ba-4ff1-902f-1d92babfa181",
   "metadata": {},
   "outputs": [
    {
     "data": {
      "text/plain": [
       "array([[1, 2, 3],\n",
       "       [4, 5, 6]])"
      ]
     },
     "execution_count": 65,
     "metadata": {},
     "output_type": "execute_result"
    }
   ],
   "source": [
    "x = np.arange(1, 7).reshape(2,3)\n",
    "x"
   ]
  },
  {
   "cell_type": "code",
   "execution_count": 66,
   "id": "08814f37-ea7e-4b60-8deb-62ac8d540a40",
   "metadata": {},
   "outputs": [
    {
     "data": {
      "text/plain": [
       "array([[ 2,  4,  6],\n",
       "       [ 8, 10, 12]])"
      ]
     },
     "execution_count": 66,
     "metadata": {},
     "output_type": "execute_result"
    }
   ],
   "source": [
    "x + x"
   ]
  },
  {
   "cell_type": "code",
   "execution_count": 67,
   "id": "38a887bb-57dc-46e8-99c3-69e329365f8f",
   "metadata": {},
   "outputs": [
    {
     "data": {
      "text/plain": [
       "array([[0, 0, 0],\n",
       "       [0, 0, 0]])"
      ]
     },
     "execution_count": 67,
     "metadata": {},
     "output_type": "execute_result"
    }
   ],
   "source": [
    "x - x"
   ]
  },
  {
   "cell_type": "code",
   "execution_count": 68,
   "id": "a374ca7b-ec86-40eb-98d1-04005f701cc4",
   "metadata": {},
   "outputs": [
    {
     "data": {
      "text/plain": [
       "array([[1., 1., 1.],\n",
       "       [1., 1., 1.]])"
      ]
     },
     "execution_count": 68,
     "metadata": {},
     "output_type": "execute_result"
    }
   ],
   "source": [
    "x / x"
   ]
  },
  {
   "cell_type": "code",
   "execution_count": 69,
   "id": "c89a6e80-007a-4117-8e2b-e6381a679329",
   "metadata": {},
   "outputs": [
    {
     "data": {
      "text/plain": [
       "array([[    1,     4,    27],\n",
       "       [  256,  3125, 46656]])"
      ]
     },
     "execution_count": 69,
     "metadata": {},
     "output_type": "execute_result"
    }
   ],
   "source": [
    "x ** x"
   ]
  },
  {
   "attachments": {},
   "cell_type": "markdown",
   "id": "fa9f924b-34ed-4a59-a6a5-3a30ade7fc10",
   "metadata": {},
   "source": [
    "### 배열 간의 곱셈에서는 요소별 연산과 벡터의 내적(dot product) 연산 가능\n",
    "#### 벡터의 내적 : 두 배열 간의 곱셈\n",
    "#### 두 개의 행렬에서 첫 번째 행렬의 열 크기와 두 번째 행렬의 행 크기가 동일해야 함\n",
    "#### m×n 행렬과 n×l 행렬, 벡터의 내적 연산하면 m×l의 행렬 생성"
   ]
  },
  {
   "cell_type": "code",
   "execution_count": 70,
   "id": "fffa287e-df26-4edd-bd8c-340bcb191d91",
   "metadata": {},
   "outputs": [
    {
     "data": {
      "text/plain": [
       "array([[1, 2, 3],\n",
       "       [4, 5, 6]])"
      ]
     },
     "execution_count": 70,
     "metadata": {},
     "output_type": "execute_result"
    }
   ],
   "source": [
    "# dot 함수 : 벡터의 내적 연산\n",
    "x_1 = np.arange(1, 7).reshape(2,3)\n",
    "x_2 = np.arange(1, 7).reshape(3,2)\n",
    "x_1"
   ]
  },
  {
   "cell_type": "code",
   "execution_count": 71,
   "id": "11cd25cd-49fd-4dc7-bd6a-c414beba4db7",
   "metadata": {},
   "outputs": [
    {
     "data": {
      "text/plain": [
       "array([[1, 2],\n",
       "       [3, 4],\n",
       "       [5, 6]])"
      ]
     },
     "execution_count": 71,
     "metadata": {},
     "output_type": "execute_result"
    }
   ],
   "source": [
    "x_2"
   ]
  },
  {
   "cell_type": "code",
   "execution_count": 72,
   "id": "a03565cd-52b0-464d-9764-1aa171d9f88a",
   "metadata": {},
   "outputs": [
    {
     "data": {
      "text/plain": [
       "array([[22, 28],\n",
       "       [49, 64]])"
      ]
     },
     "execution_count": 72,
     "metadata": {},
     "output_type": "execute_result"
    }
   ],
   "source": [
    "x_1.dot(x_2)"
   ]
  },
  {
   "cell_type": "code",
   "execution_count": 73,
   "id": "62ad39f3-4580-4a3f-acdf-870c6f26d590",
   "metadata": {},
   "outputs": [
    {
     "data": {
      "text/plain": [
       "array([[1, 2, 3],\n",
       "       [4, 5, 6],\n",
       "       [7, 8, 9]])"
      ]
     },
     "execution_count": 73,
     "metadata": {},
     "output_type": "execute_result"
    }
   ],
   "source": [
    "# 브로드캐스팅 연산\n",
    "x = np.arange(1, 10).reshape(3,3)\n",
    "x"
   ]
  },
  {
   "cell_type": "code",
   "execution_count": 74,
   "id": "de54907c-9f41-4c49-86ac-b67c9da21e5d",
   "metadata": {},
   "outputs": [
    {
     "data": {
      "text/plain": [
       "array([[11, 12, 13],\n",
       "       [14, 15, 16],\n",
       "       [17, 18, 19]])"
      ]
     },
     "execution_count": 74,
     "metadata": {},
     "output_type": "execute_result"
    }
   ],
   "source": [
    "x + 10"
   ]
  },
  {
   "cell_type": "code",
   "execution_count": 75,
   "id": "206c4769-4313-480e-9506-d73fae03ba63",
   "metadata": {},
   "outputs": [
    {
     "data": {
      "text/plain": [
       "array([[-1,  0,  1],\n",
       "       [ 2,  3,  4],\n",
       "       [ 5,  6,  7]])"
      ]
     },
     "execution_count": 75,
     "metadata": {},
     "output_type": "execute_result"
    }
   ],
   "source": [
    "x -2"
   ]
  },
  {
   "cell_type": "code",
   "execution_count": 76,
   "id": "2b4a00d6-972e-4350-a78b-2f5afcb39345",
   "metadata": {},
   "outputs": [
    {
     "data": {
      "text/plain": [
       "array([[0, 0, 1],\n",
       "       [1, 1, 2],\n",
       "       [2, 2, 3]], dtype=int32)"
      ]
     },
     "execution_count": 76,
     "metadata": {},
     "output_type": "execute_result"
    }
   ],
   "source": [
    "x // 3"
   ]
  },
  {
   "cell_type": "code",
   "execution_count": 77,
   "id": "ca14e455-188b-4b3e-88aa-b049ad9ceeda",
   "metadata": {},
   "outputs": [
    {
     "data": {
      "text/plain": [
       "array([[ 1,  4,  9],\n",
       "       [16, 25, 36],\n",
       "       [49, 64, 81]])"
      ]
     },
     "execution_count": 77,
     "metadata": {},
     "output_type": "execute_result"
    }
   ],
   "source": [
    "x ** 2"
   ]
  },
  {
   "cell_type": "code",
   "execution_count": 80,
   "id": "83ae99e8-3733-438c-b1df-31acb4e3c84d",
   "metadata": {},
   "outputs": [
    {
     "data": {
      "text/plain": [
       "array([[ 1,  2,  3],\n",
       "       [11, 12, 13],\n",
       "       [21, 22, 23],\n",
       "       [31, 32, 33]])"
      ]
     },
     "execution_count": 80,
     "metadata": {},
     "output_type": "execute_result"
    }
   ],
   "source": [
    "y1 = np.array([[0, 0, 0], [10 ,10, 10], [20, 20 ,20], [30, 30, 30]])\n",
    "y2 = np.array([1, 2, 3])\n",
    "y1 + y2"
   ]
  },
  {
   "cell_type": "code",
   "execution_count": 87,
   "id": "6c26a6cc-e3b9-4c83-a397-13639cab3f02",
   "metadata": {},
   "outputs": [
    {
     "data": {
      "text/plain": [
       "array([[ 1,  1,  1],\n",
       "       [12, 12, 12],\n",
       "       [23, 23, 23],\n",
       "       [34, 34, 34]])"
      ]
     },
     "execution_count": 87,
     "metadata": {},
     "output_type": "execute_result"
    }
   ],
   "source": [
    "y1 = np.array([[0, 0, 0], [10 ,10, 10], [20, 20 ,20], [30, 30, 30]])\n",
    "y2 = np.array([[1, 2, 3, 4]]).T\n",
    "y1 + y2"
   ]
  },
  {
   "cell_type": "code",
   "execution_count": 88,
   "id": "523301e7-0482-4b28-94c0-f072c9f28d36",
   "metadata": {},
   "outputs": [
    {
     "data": {
      "text/plain": [
       "array([[1],\n",
       "       [2],\n",
       "       [3],\n",
       "       [4]])"
      ]
     },
     "execution_count": 88,
     "metadata": {},
     "output_type": "execute_result"
    }
   ],
   "source": [
    "y2"
   ]
  },
  {
   "cell_type": "code",
   "execution_count": 81,
   "id": "23ca05b4-1ced-4c4a-b12e-abf75f7f26b7",
   "metadata": {},
   "outputs": [
    {
     "data": {
      "text/plain": [
       "array([[ 1,  2,  3],\n",
       "       [11, 12, 13],\n",
       "       [21, 22, 23],\n",
       "       [31, 32, 33]])"
      ]
     },
     "execution_count": 81,
     "metadata": {},
     "output_type": "execute_result"
    }
   ],
   "source": [
    "g1 = np.array([[0, 10 , 20, 30]]).T\n",
    "g2 = np.array([1, 2, 3])\n",
    "g1+g2"
   ]
  },
  {
   "cell_type": "code",
   "execution_count": 82,
   "id": "84c94195-b579-4489-8052-2c8e19adb48a",
   "metadata": {},
   "outputs": [
    {
     "data": {
      "text/plain": [
       "array([[ 0],\n",
       "       [10],\n",
       "       [20],\n",
       "       [30]])"
      ]
     },
     "execution_count": 82,
     "metadata": {},
     "output_type": "execute_result"
    }
   ],
   "source": [
    "g1"
   ]
  },
  {
   "cell_type": "code",
   "execution_count": 90,
   "id": "e54f26e4-f19f-4c5b-b61d-a35be69d382e",
   "metadata": {},
   "outputs": [
    {
     "data": {
      "text/plain": [
       "array([ True, False, False,  True,  True,  True])"
      ]
     },
     "execution_count": 90,
     "metadata": {},
     "output_type": "execute_result"
    }
   ],
   "source": [
    "# 비교 연산자\n",
    "import numpy as np\n",
    "x = np.array([4, 3, 2, 6, 8, 5]) \n",
    "x > 3"
   ]
  },
  {
   "cell_type": "code",
   "execution_count": 91,
   "id": "464fe6ef-2c4a-4233-a451-5a2bfea35db2",
   "metadata": {},
   "outputs": [
    {
     "data": {
      "text/plain": [
       "array([False,  True, False])"
      ]
     },
     "execution_count": 91,
     "metadata": {},
     "output_type": "execute_result"
    }
   ],
   "source": [
    "# 두 개의 배열 간 배열의 구조(shape)가 동일한 경우\n",
    "# 같은 위치에 있는 요소들끼리 비교 연산\n",
    "# [1 ＞ 2, 3 ＞ 1, 0 ＞ 7] 과 같이 연산이 실시된 후 이를 반환\n",
    "x = np.array([1, 3, 0])\n",
    "y = np.array([2, 1, 7])\n",
    "x > y"
   ]
  },
  {
   "cell_type": "code",
   "execution_count": 92,
   "id": "0aadcac8-c5f7-4721-a8de-f5bfaf1963f6",
   "metadata": {},
   "outputs": [
    {
     "data": {
      "text/plain": [
       "array([ True,  True,  True, False, False])"
      ]
     },
     "execution_count": 92,
     "metadata": {},
     "output_type": "execute_result"
    }
   ],
   "source": [
    "x = np.array([4, 6, 7, 3, 2])\n",
    "(x > 3)"
   ]
  },
  {
   "cell_type": "code",
   "execution_count": 93,
   "id": "3106505f-b1af-4dab-b7c3-5036baee4f57",
   "metadata": {},
   "outputs": [
    {
     "data": {
      "text/plain": [
       "False"
      ]
     },
     "execution_count": 93,
     "metadata": {},
     "output_type": "execute_result"
    }
   ],
   "source": [
    "# all 함수 : 배열 내부의 모든 값이 참일 때는 True, 하나라도 참이 아닐 경우에는 False를 반환\n",
    "# and 조건을 전체 요소에 적용\n",
    "(x > 3).all()"
   ]
  },
  {
   "cell_type": "code",
   "execution_count": 94,
   "id": "d8517e6e-9e8a-464c-9ddc-c54c9fe2a7f8",
   "metadata": {},
   "outputs": [
    {
     "data": {
      "text/plain": [
       "True"
      ]
     },
     "execution_count": 94,
     "metadata": {},
     "output_type": "execute_result"
    }
   ],
   "source": [
    "# any 함수 : 배열 내부의 값 중 하나라도 참일 때는 True, 모두 거짓일 경우 False를 반환\n",
    "# or 조건을 전체 요소에 적용\n",
    "(x > 3).any()"
   ]
  },
  {
   "cell_type": "code",
   "execution_count": 95,
   "id": "86022972-9778-4759-ac83-ffe619d9883f",
   "metadata": {},
   "outputs": [
    {
     "data": {
      "text/plain": [
       "(array([1, 2], dtype=int64),)"
      ]
     },
     "execution_count": 95,
     "metadata": {},
     "output_type": "execute_result"
    }
   ],
   "source": [
    "# where 함수 : 배열이 불린형으로 이루어졌을 때 참인 값들의 인덱스를 반환\n",
    "x = np.array([4, 6, 7, 3, 2])\n",
    "np.where(x>5)"
   ]
  },
  {
   "cell_type": "code",
   "execution_count": 98,
   "id": "3cac00af-2d28-4900-807e-4aaf81c69379",
   "metadata": {},
   "outputs": [
    {
     "data": {
      "text/plain": [
       "array([20, 10, 10, 20, 20])"
      ]
     },
     "execution_count": 98,
     "metadata": {},
     "output_type": "execute_result"
    }
   ],
   "source": [
    "# 참일 경우에 10을, 거짓일 경우에 20을 반환\n",
    "x = np.array([4, 6, 7, 3, 2])\n",
    "np.where(x>5 , 10, 20)"
   ]
  },
  {
   "cell_type": "code",
   "execution_count": 99,
   "id": "80c33b3f-066f-476a-b3e3-e06748d4ba88",
   "metadata": {},
   "outputs": [
    {
     "data": {
      "text/plain": [
       "array([4, 3, 0, 1, 2], dtype=int64)"
      ]
     },
     "execution_count": 99,
     "metadata": {},
     "output_type": "execute_result"
    }
   ],
   "source": [
    "# argsort : 배열 내 값들을 작은 순서대로 인덱스를 반환\n",
    "x = np.array([4, 6, 7, 3, 2])\n",
    "np.argsort(x)"
   ]
  },
  {
   "cell_type": "code",
   "execution_count": 100,
   "id": "528e0fdb-178e-4508-a735-af04e4f54469",
   "metadata": {},
   "outputs": [
    {
     "data": {
      "text/plain": [
       "2"
      ]
     },
     "execution_count": 100,
     "metadata": {},
     "output_type": "execute_result"
    }
   ],
   "source": [
    "# argmax : 배열 내 값들 중 가장 큰 값의 인덱스를 반환\n",
    "np.argmax(x)"
   ]
  },
  {
   "cell_type": "code",
   "execution_count": 101,
   "id": "5e1137aa-2c15-45b8-ae6d-f828d94d2aaa",
   "metadata": {},
   "outputs": [
    {
     "data": {
      "text/plain": [
       "4"
      ]
     },
     "execution_count": 101,
     "metadata": {},
     "output_type": "execute_result"
    }
   ],
   "source": [
    "# argmin : 배열 내 값들 중 가장 작은 값의 인덱스를 반환\n",
    "np.argmin(x)"
   ]
  },
  {
   "cell_type": "code",
   "execution_count": 112,
   "id": "623f3b64-90c2-44c5-8dce-c90673638b12",
   "metadata": {},
   "outputs": [
    {
     "data": {
      "text/plain": [
       "array([ True,  True,  True, False, False])"
      ]
     },
     "execution_count": 112,
     "metadata": {},
     "output_type": "execute_result"
    }
   ],
   "source": [
    "# 불린 인덱스(boolean index) : 배열에 있는 값들을 반환할 특정 조건을 불린형의 배열에 넣어서 추출\n",
    "# 인덱스에 들어가는 배열은 불린형이어야 함\n",
    "# 불린형 배열과 추출 대상이 되는 배열의 구조가 같아야 함\n",
    "x = np.array([4, 6, 7, 3, 2])\n",
    "x > 3"
   ]
  },
  {
   "cell_type": "code",
   "execution_count": 113,
   "id": "d2a0a991-0c71-479f-a1fd-7885a4bb681d",
   "metadata": {},
   "outputs": [
    {
     "data": {
      "text/plain": [
       "array([4, 6, 7])"
      ]
     },
     "execution_count": 113,
     "metadata": {},
     "output_type": "execute_result"
    }
   ],
   "source": [
    "cond = x > 3\n",
    "x[cond]"
   ]
  },
  {
   "cell_type": "code",
   "execution_count": 114,
   "id": "582d3102-8010-4217-a906-b6640c96997e",
   "metadata": {},
   "outputs": [
    {
     "data": {
      "text/plain": [
       "(5,)"
      ]
     },
     "execution_count": 114,
     "metadata": {},
     "output_type": "execute_result"
    }
   ],
   "source": [
    "x.shape"
   ]
  },
  {
   "cell_type": "code",
   "execution_count": 115,
   "id": "2b116d1c-0938-47a8-84b9-4e59620b9f43",
   "metadata": {},
   "outputs": [
    {
     "data": {
      "text/plain": [
       "(5,)"
      ]
     },
     "execution_count": 115,
     "metadata": {},
     "output_type": "execute_result"
    }
   ],
   "source": [
    "cond.shape"
   ]
  },
  {
   "cell_type": "code",
   "execution_count": 116,
   "id": "3bee9d32-e758-4992-b056-38a6c8aa878d",
   "metadata": {},
   "outputs": [
    {
     "data": {
      "text/plain": [
       "(3,)"
      ]
     },
     "execution_count": 116,
     "metadata": {},
     "output_type": "execute_result"
    }
   ],
   "source": [
    "x[cond].shape"
   ]
  },
  {
   "cell_type": "code",
   "execution_count": 117,
   "id": "33ab4497-419a-4624-955e-c4311f07d7cf",
   "metadata": {},
   "outputs": [
    {
     "data": {
      "text/plain": [
       "array([6, 7, 4, 7, 7, 7])"
      ]
     },
     "execution_count": 117,
     "metadata": {},
     "output_type": "execute_result"
    }
   ],
   "source": [
    "# 팬시 인덱스(fancy index) : 정수형 배열의 값을 사용하여 해당 정수의 인덱스에 위치한 값을 반환\n",
    "# 인덱스 항목에 넣을 배열은 정수로만 구성되어야 함\n",
    "# 정수 값의 범위는 대상이 되는 배열이 가지는 인덱스의 범위 내 대상이 되는 배열과 인덱스 배열의 구조(shape)가 같을 필요는 없음\n",
    "x = np.array([4, 6, 7, 3, 2])\n",
    "cond = np.array([1, 2, 0, 2, 2, 2,], int)\n",
    "x[cond]"
   ]
  },
  {
   "cell_type": "code",
   "execution_count": 118,
   "id": "a892bb67-6787-4183-a77d-2c9c6e440d91",
   "metadata": {},
   "outputs": [
    {
     "data": {
      "text/plain": [
       "array([6, 7, 4, 7, 7, 7])"
      ]
     },
     "execution_count": 118,
     "metadata": {},
     "output_type": "execute_result"
    }
   ],
   "source": [
    "x.take(cond)"
   ]
  },
  {
   "cell_type": "code",
   "execution_count": 119,
   "id": "8db229f8-7a90-40bc-a2bc-78c137ff471b",
   "metadata": {},
   "outputs": [
    {
     "data": {
      "text/plain": [
       "array([ 1,  9,  9, 16,  4,  4])"
      ]
     },
     "execution_count": 119,
     "metadata": {},
     "output_type": "execute_result"
    }
   ],
   "source": [
    "x = np.array([[1,4], [9,16]], int)\n",
    "a = np.array([0, 1, 1, 1, 0, 0], int)\n",
    "b = np.array([0, 0, 0, 1, 1, 1], int)\n",
    "x[a,b]"
   ]
  },
  {
   "cell_type": "code",
   "execution_count": null,
   "id": "05d47384-001c-4d8c-a4c7-78d6364f941a",
   "metadata": {},
   "outputs": [],
   "source": []
  }
 ],
 "metadata": {
  "kernelspec": {
   "display_name": "Python 3 (ipykernel)",
   "language": "python",
   "name": "python3"
  },
  "language_info": {
   "codemirror_mode": {
    "name": "ipython",
    "version": 3
   },
   "file_extension": ".py",
   "mimetype": "text/x-python",
   "name": "python",
   "nbconvert_exporter": "python",
   "pygments_lexer": "ipython3",
   "version": "3.11.7"
  }
 },
 "nbformat": 4,
 "nbformat_minor": 5
}
