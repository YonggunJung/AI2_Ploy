{
  "nbformat": 4,
  "nbformat_minor": 0,
  "metadata": {
    "colab": {
      "provenance": [],
      "authorship_tag": "ABX9TyNiLyNx+6U4jKIrCeACVhrZ",
      "include_colab_link": true
    },
    "kernelspec": {
      "name": "python3",
      "display_name": "Python 3"
    },
    "language_info": {
      "name": "python"
    }
  },
  "cells": [
    {
      "cell_type": "markdown",
      "metadata": {
        "id": "view-in-github",
        "colab_type": "text"
      },
      "source": [
        "<a href=\"https://colab.research.google.com/github/YonggunJung/AI2_Ploy/blob/main/8_8XOR_%EB%AC%B8%EC%A0%9C_%ED%95%B4%EA%B2%B0.ipynb\" target=\"_parent\"><img src=\"https://colab.research.google.com/assets/colab-badge.svg\" alt=\"Open In Colab\"/></a>"
      ]
    },
    {
      "cell_type": "code",
      "execution_count": 1,
      "metadata": {
        "id": "GcmCyqEC1iAX"
      },
      "outputs": [],
      "source": [
        "import numpy as np\n",
        "import pandas as pd\n",
        "import matplotlib.pyplot as plt\n",
        "import seaborn as sns\n",
        "import warnings\n",
        "warnings.filterwarnings('ignore')\n"
      ]
    },
    {
      "cell_type": "code",
      "source": [
        "import numpy as np\n",
        "\n",
        "w11 = np.array([-2, -2])    #가중치1 1행\n",
        "w12 = np.array([2, 2])      #가중치1 2행\n",
        "\n",
        "w2 = np.array([1, 1])       #가중치2\n",
        "b1 = 3                    #편향(바이어스)1\n",
        "b2 = -1                   #편향(바이어스)2\n",
        "b3 = -1                   #편향(바이어스)3"
      ],
      "metadata": {
        "id": "L_SBrE8m25VF"
      },
      "execution_count": 2,
      "outputs": []
    },
    {
      "cell_type": "code",
      "source": [
        "# 퍼셉트론 함수(MultiLayer Perceptron)\n",
        "# 0 이나 1 출력\n",
        "def MLP(x, w, b):\n",
        "  y = np.sum(w*x) + b\n",
        "  if y <= 0:\n",
        "    return 0\n",
        "  else:\n",
        "    return 1"
      ],
      "metadata": {
        "id": "O49CNNRI3mJE"
      },
      "execution_count": 3,
      "outputs": []
    },
    {
      "cell_type": "code",
      "source": [
        "# NAND 게이트 (부정 논리곱)\n",
        "# 하나라도 0이면 1\n",
        "def NAND(x1, x2):\n",
        "  return MLP(np.array([x1, x2]), w11, b1)"
      ],
      "metadata": {
        "id": "6kxuDxlP4N35"
      },
      "execution_count": 4,
      "outputs": []
    },
    {
      "cell_type": "code",
      "source": [
        "# OR 게이트 (논리합)\n",
        "# 두개중 한개라도 1이면 1\n",
        "def OR(x1, x2):\n",
        "  return MLP(np.array([x1, x2]), w12, b2)"
      ],
      "metadata": {
        "id": "v7ZwdRpS4k_h"
      },
      "execution_count": 5,
      "outputs": []
    },
    {
      "cell_type": "code",
      "source": [
        "# AND 게이트 (논리곱)\n",
        "# 두 개 모두 1일 때 1\n",
        "def AND(x1, x2):\n",
        "  return MLP(np.array([x1, x2]), w2, b3)"
      ],
      "metadata": {
        "id": "d8rJqCHq4zKs"
      },
      "execution_count": 6,
      "outputs": []
    },
    {
      "cell_type": "code",
      "source": [
        "# XOR 게이트(배타적 논리합)\n",
        "# 하나만 1이어야 1\n",
        "def XOR(x1, x2):\n",
        "  return AND(NAND(x1, x2), OR(x1, x2))"
      ],
      "metadata": {
        "id": "kKj6sTEL494r"
      },
      "execution_count": 7,
      "outputs": []
    },
    {
      "cell_type": "code",
      "source": [
        "for x in [(0, 0), (1, 0), (0, 1), (1, 1)]:\n",
        "  y = XOR(x[0], x[1])\n",
        "  print(\"입력 값: \" + str(x) + \" 출력 값: \" + str(y))"
      ],
      "metadata": {
        "colab": {
          "base_uri": "https://localhost:8080/"
        },
        "id": "PNuLJ6DR5Ixz",
        "outputId": "e6aee350-97d9-4fd0-c024-7733ef4a8126"
      },
      "execution_count": 8,
      "outputs": [
        {
          "output_type": "stream",
          "name": "stdout",
          "text": [
            "입력 값: (0, 0) 출력 값: 0\n",
            "입력 값: (1, 0) 출력 값: 1\n",
            "입력 값: (0, 1) 출력 값: 1\n",
            "입력 값: (1, 1) 출력 값: 0\n"
          ]
        }
      ]
    },
    {
      "cell_type": "code",
      "source": [
        "d11 = np.array([-4, -3])\n",
        "d12 = np.array([1, 2])\n",
        "d11 + d12"
      ],
      "metadata": {
        "colab": {
          "base_uri": "https://localhost:8080/"
        },
        "id": "JqttH8jl6L-U",
        "outputId": "e411e3b6-7ec7-4063-f5d4-5db2f0ea3d2a"
      },
      "execution_count": 12,
      "outputs": [
        {
          "output_type": "execute_result",
          "data": {
            "text/plain": [
              "array([-3, -1])"
            ]
          },
          "metadata": {},
          "execution_count": 12
        }
      ]
    },
    {
      "cell_type": "code",
      "source": [],
      "metadata": {
        "id": "_g1Y44CVBzFD"
      },
      "execution_count": null,
      "outputs": []
    }
  ]
}