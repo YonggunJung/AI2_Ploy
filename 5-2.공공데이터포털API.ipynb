{
 "cells": [
  {
   "cell_type": "code",
   "execution_count": 5,
   "id": "eb4bf65c-193c-4aa9-9db6-0408f4797b11",
   "metadata": {},
   "outputs": [
    {
     "name": "stdout",
     "output_type": "stream",
     "text": [
      "<< 국내 입국한 외국인의 통계 데이터를 수집합니다. >>\n"
     ]
    },
    {
     "name": "stdin",
     "output_type": "stream",
     "text": [
      "국가 코드를 입력하세요(중국: 112 / 일본: 130 / 미국: 275) :  130\n",
      "데이터를 몇 년부터 수집할까요? :  2017\n",
      "데이터를 몇 년까지 수집할까요? :  2023\n"
     ]
    },
    {
     "name": "stdout",
     "output_type": "stream",
     "text": [
      "[2024-09-05 11:14:15.333183] Url Request Success\n",
      "{\n",
      "    \"response\": {\n",
      "        \"header\": {\n",
      "            \"responseTime\": \"2024-09-05T11:14:16.006+09:00\",\n",
      "            \"resultCode\": 30,\n",
      "            \"resultMsg\": \"SERVICE KEY IS NOT REGISTERED ERROR.\"\n",
      "        }\n",
      "    }\n",
      "}\n"
     ]
    },
    {
     "ename": "KeyError",
     "evalue": "'body'",
     "output_type": "error",
     "traceback": [
      "\u001b[1;31m---------------------------------------------------------------------------\u001b[0m",
      "\u001b[1;31mKeyError\u001b[0m                                  Traceback (most recent call last)",
      "Cell \u001b[1;32mIn[5], line 89\u001b[0m\n\u001b[0;32m     86\u001b[0m     result_df\u001b[38;5;241m.\u001b[39mto_csv(\u001b[38;5;124m'\u001b[39m\u001b[38;5;124m./\u001b[39m\u001b[38;5;132;01m%s\u001b[39;00m\u001b[38;5;124m_\u001b[39m\u001b[38;5;132;01m%s\u001b[39;00m\u001b[38;5;124m_\u001b[39m\u001b[38;5;132;01m%d\u001b[39;00m\u001b[38;5;124m_\u001b[39m\u001b[38;5;132;01m%s\u001b[39;00m\u001b[38;5;124m.csv\u001b[39m\u001b[38;5;124m'\u001b[39m \u001b[38;5;241m%\u001b[39m (natName, ed, nStartYear,dataEND), index\u001b[38;5;241m=\u001b[39m\u001b[38;5;28;01mFalse\u001b[39;00m, encoding\u001b[38;5;241m=\u001b[39m\u001b[38;5;124m'\u001b[39m\u001b[38;5;124mcp949\u001b[39m\u001b[38;5;124m'\u001b[39m)\n\u001b[0;32m     88\u001b[0m \u001b[38;5;28;01mif\u001b[39;00m \u001b[38;5;18m__name__\u001b[39m \u001b[38;5;241m==\u001b[39m \u001b[38;5;124m'\u001b[39m\u001b[38;5;124m__main__\u001b[39m\u001b[38;5;124m'\u001b[39m:\n\u001b[1;32m---> 89\u001b[0m     \u001b[43mmain\u001b[49m\u001b[43m(\u001b[49m\u001b[43m)\u001b[49m\n",
      "Cell \u001b[1;32mIn[5], line 77\u001b[0m, in \u001b[0;36mmain\u001b[1;34m()\u001b[0m\n\u001b[0;32m     75\u001b[0m nEndYear \u001b[38;5;241m=\u001b[39m \u001b[38;5;28mint\u001b[39m(\u001b[38;5;28minput\u001b[39m(\u001b[38;5;124m'\u001b[39m\u001b[38;5;124m데이터를 몇 년까지 수집할까요? : \u001b[39m\u001b[38;5;124m'\u001b[39m))\n\u001b[0;32m     76\u001b[0m ed_cd \u001b[38;5;241m=\u001b[39m \u001b[38;5;124m\"\u001b[39m\u001b[38;5;124mE\u001b[39m\u001b[38;5;124m\"\u001b[39m   \u001b[38;5;66;03m#E : 방한외래관광객, D : 해외 출국\u001b[39;00m\n\u001b[1;32m---> 77\u001b[0m jsonResult, result, natName, ed, dataEND \u001b[38;5;241m=\u001b[39m \u001b[43mgetTourismStatsService\u001b[49m\u001b[43m(\u001b[49m\u001b[43mnat_cd\u001b[49m\u001b[43m,\u001b[49m\u001b[43m \u001b[49m\u001b[43med_cd\u001b[49m\u001b[43m,\u001b[49m\u001b[43m \u001b[49m\u001b[43mnStartYear\u001b[49m\u001b[43m,\u001b[49m\u001b[43m \u001b[49m\u001b[43mnEndYear\u001b[49m\u001b[43m)\u001b[49m \u001b[38;5;66;03m#[CODE 3]\u001b[39;00m\n\u001b[0;32m     79\u001b[0m \u001b[38;5;66;03m#파일저장 1 : json 파일\u001b[39;00m\n\u001b[0;32m     80\u001b[0m \u001b[38;5;28;01mwith\u001b[39;00m \u001b[38;5;28mopen\u001b[39m(\u001b[38;5;124m'\u001b[39m\u001b[38;5;124m./\u001b[39m\u001b[38;5;132;01m%s\u001b[39;00m\u001b[38;5;124m_\u001b[39m\u001b[38;5;132;01m%s\u001b[39;00m\u001b[38;5;124m_\u001b[39m\u001b[38;5;132;01m%d\u001b[39;00m\u001b[38;5;124m_\u001b[39m\u001b[38;5;132;01m%s\u001b[39;00m\u001b[38;5;124m.json\u001b[39m\u001b[38;5;124m'\u001b[39m \u001b[38;5;241m%\u001b[39m (natName, ed, nStartYear, dataEND),\u001b[38;5;124m'\u001b[39m\u001b[38;5;124mw\u001b[39m\u001b[38;5;124m'\u001b[39m, encoding \u001b[38;5;241m=\u001b[39m \u001b[38;5;124m'\u001b[39m\u001b[38;5;124mutf8\u001b[39m\u001b[38;5;124m'\u001b[39m) \u001b[38;5;28;01mas\u001b[39;00m outfile:\n",
      "Cell \u001b[1;32mIn[5], line 57\u001b[0m, in \u001b[0;36mgetTourismStatsService\u001b[1;34m(nat_cd, ed_cd, nStartYear, nEndYear)\u001b[0m\n\u001b[0;32m     55\u001b[0m \u001b[38;5;66;03m#jsonData를 출력하여 확인...........................................\u001b[39;00m\n\u001b[0;32m     56\u001b[0m \u001b[38;5;28mprint\u001b[39m(json\u001b[38;5;241m.\u001b[39mdumps(jsonData, indent \u001b[38;5;241m=\u001b[39m \u001b[38;5;241m4\u001b[39m, sort_keys \u001b[38;5;241m=\u001b[39m \u001b[38;5;28;01mTrue\u001b[39;00m, ensure_ascii \u001b[38;5;241m=\u001b[39m \u001b[38;5;28;01mFalse\u001b[39;00m))\n\u001b[1;32m---> 57\u001b[0m natName \u001b[38;5;241m=\u001b[39m \u001b[43mjsonData\u001b[49m\u001b[43m[\u001b[49m\u001b[38;5;124;43m'\u001b[39;49m\u001b[38;5;124;43mresponse\u001b[39;49m\u001b[38;5;124;43m'\u001b[39;49m\u001b[43m]\u001b[49m\u001b[43m[\u001b[49m\u001b[38;5;124;43m'\u001b[39;49m\u001b[38;5;124;43mbody\u001b[39;49m\u001b[38;5;124;43m'\u001b[39;49m\u001b[43m]\u001b[49m[\u001b[38;5;124m'\u001b[39m\u001b[38;5;124mitems\u001b[39m\u001b[38;5;124m'\u001b[39m][\u001b[38;5;124m'\u001b[39m\u001b[38;5;124mitem\u001b[39m\u001b[38;5;124m'\u001b[39m][\u001b[38;5;124m'\u001b[39m\u001b[38;5;124mnatKorNm\u001b[39m\u001b[38;5;124m'\u001b[39m]\n\u001b[0;32m     58\u001b[0m natName \u001b[38;5;241m=\u001b[39m natName\u001b[38;5;241m.\u001b[39mreplace(\u001b[38;5;124m'\u001b[39m\u001b[38;5;124m \u001b[39m\u001b[38;5;124m'\u001b[39m, \u001b[38;5;124m'\u001b[39m\u001b[38;5;124m'\u001b[39m)\n\u001b[0;32m     59\u001b[0m num \u001b[38;5;241m=\u001b[39m jsonData[\u001b[38;5;124m'\u001b[39m\u001b[38;5;124mresponse\u001b[39m\u001b[38;5;124m'\u001b[39m][\u001b[38;5;124m'\u001b[39m\u001b[38;5;124mbody\u001b[39m\u001b[38;5;124m'\u001b[39m][\u001b[38;5;124m'\u001b[39m\u001b[38;5;124mitems\u001b[39m\u001b[38;5;124m'\u001b[39m][\u001b[38;5;124m'\u001b[39m\u001b[38;5;124mitem\u001b[39m\u001b[38;5;124m'\u001b[39m][\u001b[38;5;124m'\u001b[39m\u001b[38;5;124mnum\u001b[39m\u001b[38;5;124m'\u001b[39m]\n",
      "\u001b[1;31mKeyError\u001b[0m: 'body'"
     ]
    }
   ],
   "source": [
    "import os\n",
    "import sys\n",
    "import urllib.request\n",
    "import datetime\n",
    "import time\n",
    "import json\n",
    "import pandas as pd\n",
    "\n",
    "ServiceKey = \"t4YxayZcrZ%2BszR0rcmTiHK48yD3hMtLhMsB3dWmLxgpftlw7EVMf%2BHjGtCcX3r8Y1CeDnxHT5vfccsE%2BkBeC8g%3D%3D\"\n",
    "\n",
    "#[CODE 1]\n",
    "def getRequestUrl(url):\n",
    "    req = urllib.request.Request(url)\n",
    "    try:\n",
    "        response = urllib.request.urlopen(req)\n",
    "        if response.getcode() == 200:\n",
    "            print(\"[%s] Url Request Success\" % datetime.datetime.now())\n",
    "            return response.read().decode('utf-8')\n",
    "    except Exception as e:\n",
    "        print(e)\n",
    "        print(\"[%s] Error for URL : %s\" % (datetime.datetime.now(), url))\n",
    "        return None\n",
    "\n",
    "#[CODE 2]\n",
    "def getTourismStatsItem(yyyymm, national_code, ed_cd):\n",
    "    service_url = \"http://openapi.tour.go.kr/openapi/service/EdrcntTourismStatsService/getEdrcntTourismStatsList\"\n",
    "    parameters = \"?_type=json&serviceKey=\" + ServiceKey   #인증키\n",
    "    parameters += \"&YM=\" + yyyymm\n",
    "    parameters += \"&NAT_CD=\" + national_code\n",
    "    parameters += \"&ED_CD=\" + ed_cd\n",
    "\n",
    "    url = service_url + parameters\n",
    "\n",
    "    retData = getRequestUrl(url) #[CODE 1]\n",
    "\n",
    "    if (retData == None):\n",
    "        return None\n",
    "    else:\n",
    "        return json.loads(retData)\n",
    "\n",
    "#[CODE 3]\n",
    "def getTourismStatsService(nat_cd, ed_cd, nStartYear, nEndYear):\n",
    "    jsonResult = []\n",
    "    result = []\n",
    "    for year in range(nStartYear, nEndYear+1):\n",
    "        for month in range(1, 13):\n",
    "            yyyymm = \"{0}{1:0>2}\".format(str(year), str(month))\n",
    "            jsonData = getTourismStatsItem(yyyymm,nat_cd,ed_cd) #[CODE 2]\n",
    "            if (jsonData['response']['header']['resultMsg'] == 'OK'): \n",
    "                #데이터가 없는 마지막 항목인 경우 ----------------------------\n",
    "                if jsonData['response']['body']['items'] == '':\n",
    "                    dataEND = \"{0}{1:0>2}\".format(str(year), str(month-1))\n",
    "                    print(\"데이터 없음.... \\n 제공되는 통계 데이터는 %s년 %s월까지입니다.\" %(str(year), str(month-1)))\n",
    "                    break\n",
    "            #jsonData를 출력하여 확인...........................................\n",
    "            print(json.dumps(jsonData, indent = 4, sort_keys = True, ensure_ascii = False))\n",
    "            natName = jsonData['response']['body']['items']['item']['natKorNm']\n",
    "            natName = natName.replace(' ', '')\n",
    "            num = jsonData['response']['body']['items']['item']['num']\n",
    "            ed = jsonData['response']['body']['items']['item']['ed']\n",
    "            print('[ %s_%s : %s ]' %(natName, yyyymm, num))\n",
    "            print('-----------------------------------------------------')\n",
    "            jsonResult.append({'nat_name': natName, 'nat_cd': nat_cd, 'yyyymm': yyyymm, 'visit_cnt': num})\n",
    "            result.append([natName, nat_cd, yyyymm, num])\n",
    "    return (jsonResult, result, natName, ed, dataEND)\n",
    "\n",
    "#[CODE 0]\n",
    "def main():\n",
    "    jsonResult = []\n",
    "    result = []\n",
    "\n",
    "    print(\"<< 국내 입국한 외국인의 통계 데이터를 수집합니다. >>\")\n",
    "    nat_cd = input('국가 코드를 입력하세요(중국: 112 / 일본: 130 / 미국: 275) : ')\n",
    "    nStartYear = int(input('데이터를 몇 년부터 수집할까요? : '))\n",
    "    nEndYear = int(input('데이터를 몇 년까지 수집할까요? : '))\n",
    "    ed_cd = \"E\"   #E : 방한외래관광객, D : 해외 출국\n",
    "    jsonResult, result, natName, ed, dataEND = getTourismStatsService(nat_cd, ed_cd, nStartYear, nEndYear) #[CODE 3]\n",
    "\n",
    "    #파일저장 1 : json 파일\n",
    "    with open('./%s_%s_%d_%s.json' % (natName, ed, nStartYear, dataEND),'w', encoding = 'utf8') as outfile:\n",
    "        jsonFile = json.dumps(jsonResult, indent = 4, sort_keys = True, ensure_ascii = False)\n",
    "        outfile.write(jsonFile)\n",
    "    #파일저장 2 : csv 파일\n",
    "    columns = [\"입국자국가\", \"국가코드\", \"입국연월\", \"입국자 수\"]\n",
    "    result_df = pd.DataFrame(result, columns = columns)\n",
    "    result_df.to_csv('./%s_%s_%d_%s.csv' % (natName, ed, nStartYear,dataEND), index=False, encoding='cp949')\n",
    "\n",
    "if __name__ == '__main__':\n",
    "    main()\n"
   ]
  },
  {
   "cell_type": "code",
   "execution_count": null,
   "id": "3699ef65-4f3b-4be6-a543-09a41e543aff",
   "metadata": {},
   "outputs": [],
   "source": []
  }
 ],
 "metadata": {
  "kernelspec": {
   "display_name": "Python 3 (ipykernel)",
   "language": "python",
   "name": "python3"
  },
  "language_info": {
   "codemirror_mode": {
    "name": "ipython",
    "version": 3
   },
   "file_extension": ".py",
   "mimetype": "text/x-python",
   "name": "python",
   "nbconvert_exporter": "python",
   "pygments_lexer": "ipython3",
   "version": "3.11.7"
  },
  "widgets": {
   "application/vnd.jupyter.widget-state+json": {
    "state": {},
    "version_major": 2,
    "version_minor": 0
   }
  }
 },
 "nbformat": 4,
 "nbformat_minor": 5
}
