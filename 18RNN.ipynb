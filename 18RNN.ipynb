{
  "nbformat": 4,
  "nbformat_minor": 0,
  "metadata": {
    "colab": {
      "provenance": [],
      "gpuType": "T4",
      "authorship_tag": "ABX9TyNbatEdaNoirg8RLL6DLP8h",
      "include_colab_link": true
    },
    "kernelspec": {
      "name": "python3",
      "display_name": "Python 3"
    },
    "language_info": {
      "name": "python"
    },
    "accelerator": "GPU"
  },
  "cells": [
    {
      "cell_type": "markdown",
      "metadata": {
        "id": "view-in-github",
        "colab_type": "text"
      },
      "source": [
        "<a href=\"https://colab.research.google.com/github/YonggunJung/AI2_Ploy/blob/main/18RNN.ipynb\" target=\"_parent\"><img src=\"https://colab.research.google.com/assets/colab-badge.svg\" alt=\"Open In Colab\"/></a>"
      ]
    },
    {
      "cell_type": "code",
      "source": [
        "import numpy as np\n",
        "import pandas as pd\n",
        "import matplotlib.pyplot as plt\n",
        "import seaborn as sns\n",
        "import warnings\n",
        "warnings.filterwarnings('ignore')"
      ],
      "metadata": {
        "id": "Q6tJB7a65tYf"
      },
      "execution_count": 1,
      "outputs": []
    },
    {
      "cell_type": "markdown",
      "source": [
        "## LSTM을 이용한 로이터 뉴스 카테고리 분류"
      ],
      "metadata": {
        "id": "2qdAbdt_2g5w"
      }
    },
    {
      "cell_type": "code",
      "execution_count": 2,
      "metadata": {
        "id": "0QPp5Ock2eQS"
      },
      "outputs": [],
      "source": [
        "# 로이터 뉴스 데이터는 총 1만 1228개, 46개의 카테고리\n",
        "# 순환 신경망 Recurrent Neural Network(RNN)\n",
        "from tensorflow.keras.datasets import reuters"
      ]
    },
    {
      "cell_type": "code",
      "source": [
        "# 학습셋 테스트셋 나누기\n",
        "# num_words=1000 이거는 빈도가 1 ~ 1000에 해당하는 단어만 선택해서 불러옴\n",
        "(xtrain, ytrain), (xtest, ytest) = reuters.load_data(num_words=1000, test_split=0.2)"
      ],
      "metadata": {
        "colab": {
          "base_uri": "https://localhost:8080/"
        },
        "id": "EAymEECM6E14",
        "outputId": "ef4fcdd4-f261-493b-9ddb-6ce5f611d164"
      },
      "execution_count": 3,
      "outputs": [
        {
          "output_type": "stream",
          "name": "stdout",
          "text": [
            "Downloading data from https://storage.googleapis.com/tensorflow/tf-keras-datasets/reuters.npz\n",
            "2110848/2110848 [==============================] - 0s 0us/step\n"
          ]
        }
      ]
    },
    {
      "cell_type": "code",
      "source": [
        "# 데이터 확인 후 출력\n",
        "category = np.max(ytrain) + 1\n",
        "print(category, '카테고리')\n",
        "print(len(xtrain), '학습용 뉴스 기사')\n",
        "print(len(xtest), '테스트용 뉴스 기사')\n",
        "print(xtrain[0])    # 이걸로 토큰화 작업을 마친걸 알수 있음"
      ],
      "metadata": {
        "colab": {
          "base_uri": "https://localhost:8080/"
        },
        "id": "z7ZyOLAM6iD2",
        "outputId": "d1b1868b-204f-46cb-ca47-fcf2c0da4f43"
      },
      "execution_count": 4,
      "outputs": [
        {
          "output_type": "stream",
          "name": "stdout",
          "text": [
            "46 카테고리\n",
            "8982 학습용 뉴스 기사\n",
            "2246 테스트용 뉴스 기사\n",
            "[1, 2, 2, 8, 43, 10, 447, 5, 25, 207, 270, 5, 2, 111, 16, 369, 186, 90, 67, 7, 89, 5, 19, 102, 6, 19, 124, 15, 90, 67, 84, 22, 482, 26, 7, 48, 4, 49, 8, 864, 39, 209, 154, 6, 151, 6, 83, 11, 15, 22, 155, 11, 15, 7, 48, 9, 2, 2, 504, 6, 258, 6, 272, 11, 15, 22, 134, 44, 11, 15, 16, 8, 197, 2, 90, 67, 52, 29, 209, 30, 32, 132, 6, 109, 15, 17, 12]\n"
          ]
        }
      ]
    },
    {
      "cell_type": "code",
      "source": [
        "# sequence()함수로 길이를 맞춰줌\n",
        "from tensorflow.keras.preprocessing import sequence\n",
        "\n",
        "# maxlen=100은 단어 수를 100개로 맞춤\n",
        "xtrain = sequence.pad_sequences(xtrain, maxlen=100)\n",
        "xtest = sequence.pad_sequences(xtest, maxlen=100)"
      ],
      "metadata": {
        "id": "c5movtWE64rU"
      },
      "execution_count": 5,
      "outputs": []
    },
    {
      "cell_type": "code",
      "source": [
        "# 원핫 인코딩\n",
        "from tensorflow.keras.utils import to_categorical\n",
        "\n",
        "ytrain = to_categorical(ytrain)\n",
        "ytest = to_categorical(ytest)"
      ],
      "metadata": {
        "id": "FUVc3BB99NYn"
      },
      "execution_count": 6,
      "outputs": []
    },
    {
      "cell_type": "code",
      "source": [
        "# 모델 생성 및 설정\n",
        "from tensorflow.keras.models import Sequential\n",
        "from tensorflow.keras.layers import Embedding, Dense, LSTM\n",
        "from tensorflow.keras.optimizers import Adam\n",
        "from tensorflow.keras.callbacks import EarlyStopping, ModelCheckpoint\n",
        "\n",
        "model = Sequential()\n",
        "# Embedding(총 단어 수, 기사당 단어 수)\n",
        "model.add(Embedding(1000, 100))             # 데이터 전처리 과정을 통해 입력된 값을 받아 다음 층이 알 수 있는 형태로 변환\n",
        "# LSTM(기사당 단어수, 기타 옵션), LSTM은 tanh을 활성화 함수로 주로 사용\n",
        "model.add(LSTM(100, activation='tanh'))     # RNN에서 기억 값에 대한 가중치 제어\n",
        "model.add(Dense(46, activation='softmax'))"
      ],
      "metadata": {
        "id": "Zu_ajJ529hEW"
      },
      "execution_count": 7,
      "outputs": []
    },
    {
      "cell_type": "code",
      "source": [
        "# 모델 실행 옵션\n",
        "model.compile(loss = 'categorical_crossentropy', optimizer = 'adam', metrics = ['accuracy'])"
      ],
      "metadata": {
        "id": "1_Y8ncbB-6RU"
      },
      "execution_count": 8,
      "outputs": []
    },
    {
      "cell_type": "code",
      "source": [
        "# 조기 중단 설정\n",
        "early_stopping_callback = EarlyStopping(monitor = 'val_loss', patience = 5)"
      ],
      "metadata": {
        "id": "xktBq6dJ_Jp9"
      },
      "execution_count": 9,
      "outputs": []
    },
    {
      "cell_type": "code",
      "source": [
        "# 모델 실행\n",
        "history = model.fit(xtrain, ytrain, batch_size = 20, epochs=200, validation_data = (xtest, ytest), callbacks=[early_stopping_callback])"
      ],
      "metadata": {
        "colab": {
          "base_uri": "https://localhost:8080/"
        },
        "id": "LlGNiC_Y_Ycg",
        "outputId": "36836bfb-dcf3-470d-e492-1a5edb6f570c"
      },
      "execution_count": 10,
      "outputs": [
        {
          "output_type": "stream",
          "name": "stdout",
          "text": [
            "Epoch 1/200\n",
            "450/450 [==============================] - 36s 71ms/step - loss: 2.2070 - accuracy: 0.4441 - val_loss: 1.9303 - val_accuracy: 0.4996\n",
            "Epoch 2/200\n",
            "450/450 [==============================] - 7s 15ms/step - loss: 1.7708 - accuracy: 0.5390 - val_loss: 1.6838 - val_accuracy: 0.5739\n",
            "Epoch 3/200\n",
            "450/450 [==============================] - 6s 14ms/step - loss: 1.6021 - accuracy: 0.5951 - val_loss: 1.5836 - val_accuracy: 0.6055\n",
            "Epoch 4/200\n",
            "450/450 [==============================] - 5s 11ms/step - loss: 1.4084 - accuracy: 0.6542 - val_loss: 1.4175 - val_accuracy: 0.6376\n",
            "Epoch 5/200\n",
            "450/450 [==============================] - 4s 9ms/step - loss: 1.2552 - accuracy: 0.6879 - val_loss: 1.3143 - val_accuracy: 0.6683\n",
            "Epoch 6/200\n",
            "450/450 [==============================] - 5s 10ms/step - loss: 1.1283 - accuracy: 0.7157 - val_loss: 1.2604 - val_accuracy: 0.6768\n",
            "Epoch 7/200\n",
            "450/450 [==============================] - 4s 10ms/step - loss: 1.0292 - accuracy: 0.7387 - val_loss: 1.2006 - val_accuracy: 0.6937\n",
            "Epoch 8/200\n",
            "450/450 [==============================] - 5s 10ms/step - loss: 0.9452 - accuracy: 0.7663 - val_loss: 1.1710 - val_accuracy: 0.7115\n",
            "Epoch 9/200\n",
            "450/450 [==============================] - 4s 9ms/step - loss: 0.8639 - accuracy: 0.7853 - val_loss: 1.1597 - val_accuracy: 0.7137\n",
            "Epoch 10/200\n",
            "450/450 [==============================] - 4s 9ms/step - loss: 0.7960 - accuracy: 0.8010 - val_loss: 1.1818 - val_accuracy: 0.7093\n",
            "Epoch 11/200\n",
            "450/450 [==============================] - 4s 9ms/step - loss: 0.7317 - accuracy: 0.8198 - val_loss: 1.1642 - val_accuracy: 0.7199\n",
            "Epoch 12/200\n",
            "450/450 [==============================] - 5s 10ms/step - loss: 0.6693 - accuracy: 0.8321 - val_loss: 1.1767 - val_accuracy: 0.7248\n",
            "Epoch 13/200\n",
            "450/450 [==============================] - 4s 9ms/step - loss: 0.6365 - accuracy: 0.8388 - val_loss: 1.2029 - val_accuracy: 0.7182\n",
            "Epoch 14/200\n",
            "450/450 [==============================] - 5s 10ms/step - loss: 0.5778 - accuracy: 0.8563 - val_loss: 1.2559 - val_accuracy: 0.7137\n"
          ]
        }
      ]
    },
    {
      "cell_type": "code",
      "source": [
        "# 테스트 정확도 출력\n",
        "print('\\n Test Accuracy : %.4f' %(model.evaluate(xtest, ytest)[1]))"
      ],
      "metadata": {
        "colab": {
          "base_uri": "https://localhost:8080/"
        },
        "id": "E_-a9Prz_ruP",
        "outputId": "cec500c6-deae-4e71-c2b1-8fe3d58f6419"
      },
      "execution_count": 11,
      "outputs": [
        {
          "output_type": "stream",
          "name": "stdout",
          "text": [
            "71/71 [==============================] - 0s 5ms/step - loss: 1.2559 - accuracy: 0.7137\n",
            "\n",
            " Test Accuracy : 0.7137\n"
          ]
        }
      ]
    },
    {
      "cell_type": "code",
      "source": [
        "# 학습셋과 테스트셋 오차 저장\n",
        "y_vloss = history.history['val_loss']\n",
        "y_loss = history.history['loss']"
      ],
      "metadata": {
        "id": "XHpyeMsQBTSG"
      },
      "execution_count": 13,
      "outputs": []
    },
    {
      "cell_type": "code",
      "source": [
        "# 그래프로 표현\n",
        "x_len = np.arange(len(y_loss))\n",
        "plt.plot(x_len, y_vloss, marker='.', c='red', label='Testset_loss')\n",
        "plt.plot(x_len, y_loss, marker='.', c='blue', label='Trainset_loss')\n",
        "\n",
        "# 그래프엥 그리드를 주고 레이블 표시\n",
        "plt.legend(loc='upper right')\n",
        "plt.grid()\n",
        "plt.xlabel('epoch')\n",
        "plt.ylabel('loss')\n",
        "plt.show()"
      ],
      "metadata": {
        "colab": {
          "base_uri": "https://localhost:8080/",
          "height": 449
        },
        "id": "8jV1C6p2Bkhk",
        "outputId": "bcd22b1e-e489-4722-a55c-96ecabaff38a"
      },
      "execution_count": 14,
      "outputs": [
        {
          "output_type": "display_data",
          "data": {
            "text/plain": [
              "<Figure size 640x480 with 1 Axes>"
            ],
            "image/png": "[encoded data removed]"
          },
          "metadata": {}
        }
      ]
    },
    {
      "cell_type": "markdown",
      "source": [
        "## LSTM과 CNN의 조합을 이용한 영화 리뷰 분류"
      ],
      "metadata": {
        "id": "QCp_I-FnCQEr"
      }
    },
    {
      "cell_type": "code",
      "source": [
        "from tensorflow.keras.datasets import imdb\n",
        "# 긍정 부정을 찾는거라 원핫 인코딩 과정이 없음\n",
        "(xtrain, ytrain), (xtest, ytest) = imdb.load_data(num_words=5000)\n",
        "xtrain = sequence.pad_sequences(xtrain, maxlen=500)\n",
        "xtest = sequence.pad_sequences(xtest, maxlen=500)"
      ],
      "metadata": {
        "colab": {
          "base_uri": "https://localhost:8080/"
        },
        "id": "J589VWzbCAum",
        "outputId": "4bcfc002-8309-469c-8730-ca6b27b9f4b7"
      },
      "execution_count": 15,
      "outputs": [
        {
          "output_type": "stream",
          "name": "stdout",
          "text": [
            "Downloading data from https://storage.googleapis.com/tensorflow/tf-keras-datasets/imdb.npz\n",
            "17464789/17464789 [==============================] - 0s 0us/step\n"
          ]
        }
      ]
    },
    {
      "cell_type": "code",
      "source": [
        "from tensorflow.keras.models import Sequential\n",
        "from tensorflow.keras.layers import Embedding, Dense, LSTM, Conv1D, MaxPooling1D, Dropout, Activation\n",
        "\n",
        "# 모델 구조 설정\n",
        "model = Sequential()\n",
        "model.add(Embedding(5000, 100))\n",
        "model.add(Dropout(0.5))\n",
        "# Conv1D()함수는 Conv2D의 개념을 1차원으로 옮긴 것\n",
        "model.add(Conv1D(64, 5, padding='valid', activation='relu', strides=1))\n",
        "# MaxPooling1D(pool_size=4)은  1차원 배열에서 4개중에 가장 큰수를 넘기고 나머지를 버림\n",
        "model.add(MaxPooling1D(pool_size=4))\n",
        "model.add(LSTM(55))\n",
        "model.add(Dense(1))\n",
        "model.add(Activation('sigmoid'))\n",
        "model.summary()"
      ],
      "metadata": {
        "colab": {
          "base_uri": "https://localhost:8080/"
        },
        "id": "APA0ANzOFyfe",
        "outputId": "84e91dcc-fa43-4412-a8b5-bf626656dc9b"
      },
      "execution_count": 19,
      "outputs": [
        {
          "output_type": "stream",
          "name": "stdout",
          "text": [
            "Model: \"sequential_4\"\n",
            "_________________________________________________________________\n",
            " Layer (type)                Output Shape              Param #   \n",
            "=================================================================\n",
            " embedding_4 (Embedding)     (None, None, 100)         500000    \n",
            "                                                                 \n",
            " dropout_3 (Dropout)         (None, None, 100)         0         \n",
            "                                                                 \n",
            " conv1d_1 (Conv1D)           (None, None, 64)          32064     \n",
            "                                                                 \n",
            " max_pooling1d_1 (MaxPoolin  (None, None, 64)          0         \n",
            " g1D)                                                            \n",
            "                                                                 \n",
            " lstm_2 (LSTM)               (None, 55)                26400     \n",
            "                                                                 \n",
            " dense_2 (Dense)             (None, 1)                 56        \n",
            "                                                                 \n",
            " activation (Activation)     (None, 1)                 0         \n",
            "                                                                 \n",
            "=================================================================\n",
            "Total params: 558520 (2.13 MB)\n",
            "Trainable params: 558520 (2.13 MB)\n",
            "Non-trainable params: 0 (0.00 Byte)\n",
            "_________________________________________________________________\n"
          ]
        }
      ]
    },
    {
      "cell_type": "code",
      "source": [
        "# 모델 실행 옵션 설정\n",
        "model.compile(loss = 'binary_crossentropy', optimizer='adam', metrics=['accuracy'])"
      ],
      "metadata": {
        "id": "B8t08iVPGeYh"
      },
      "execution_count": 20,
      "outputs": []
    },
    {
      "cell_type": "code",
      "source": [
        "# 조기 중단 설정\n",
        "early_stopping_callback = EarlyStopping(monitor='val_loss', patience=3)"
      ],
      "metadata": {
        "id": "KSi-TfRGHkxx"
      },
      "execution_count": 21,
      "outputs": []
    },
    {
      "cell_type": "code",
      "source": [
        "# 모델 실행\n",
        "history = model.fit(xtrain, ytrain, batch_size=40, epochs=100, validation_split=0.25, callbacks=[early_stopping_callback])"
      ],
      "metadata": {
        "colab": {
          "base_uri": "https://localhost:8080/"
        },
        "id": "EhJ8v5DbHvCS",
        "outputId": "a6e7f0cb-8e1d-4947-d47c-ac56181e0953"
      },
      "execution_count": 23,
      "outputs": [
        {
          "output_type": "stream",
          "name": "stdout",
          "text": [
            "Epoch 1/100\n",
            "469/469 [==============================] - 81s 160ms/step - loss: 0.4223 - accuracy: 0.7870 - val_loss: 0.2701 - val_accuracy: 0.8893\n",
            "Epoch 2/100\n",
            "469/469 [==============================] - 37s 78ms/step - loss: 0.2355 - accuracy: 0.9108 - val_loss: 0.2757 - val_accuracy: 0.8827\n",
            "Epoch 3/100\n",
            "469/469 [==============================] - 19s 41ms/step - loss: 0.1833 - accuracy: 0.9315 - val_loss: 0.2632 - val_accuracy: 0.8890\n",
            "Epoch 4/100\n",
            "469/469 [==============================] - 11s 24ms/step - loss: 0.1502 - accuracy: 0.9451 - val_loss: 0.2982 - val_accuracy: 0.8861\n",
            "Epoch 5/100\n",
            "469/469 [==============================] - 7s 16ms/step - loss: 0.1232 - accuracy: 0.9565 - val_loss: 0.2922 - val_accuracy: 0.8878\n",
            "Epoch 6/100\n",
            "469/469 [==============================] - 10s 21ms/step - loss: 0.0907 - accuracy: 0.9691 - val_loss: 0.3360 - val_accuracy: 0.8894\n"
          ]
        }
      ]
    },
    {
      "cell_type": "code",
      "source": [
        "# 테스트 정확도 출력\n",
        "print(\"\\n Test Accuracy : %.4f\" % (model.evaluate(xtest, ytest)[1]))"
      ],
      "metadata": {
        "colab": {
          "base_uri": "https://localhost:8080/"
        },
        "id": "6FoO-EWVH8pL",
        "outputId": "d26fa1a9-db4d-487f-f1a4-542c898568cf"
      },
      "execution_count": 24,
      "outputs": [
        {
          "output_type": "stream",
          "name": "stdout",
          "text": [
            "782/782 [==============================] - 3s 4ms/step - loss: 0.3692 - accuracy: 0.8778\n",
            "\n",
            " Test Accuracy : 0.8778\n"
          ]
        }
      ]
    },
    {
      "cell_type": "code",
      "source": [
        "# 학습셋과 테스트 셋의 오차\n",
        "y_vloss = history.history['val_loss']\n",
        "y_loss = history.history['loss']"
      ],
      "metadata": {
        "id": "C9q1HutvIKFp"
      },
      "execution_count": 25,
      "outputs": []
    },
    {
      "cell_type": "code",
      "source": [
        "# 그래프로 표현\n",
        "x_len = np.arange(len(y_loss))\n",
        "plt.plot(x_len, y_vloss, marker='.', c='red', label='Testset_loss')\n",
        "plt.plot(x_len, y_loss, marker='.', c='blue', label='Trainset_loss')\n",
        "plt.legend(loc='upper right')\n",
        "plt.grid()\n",
        "plt.xlabel('epoch')\n",
        "plt.ylabel('loss')\n",
        "plt.show()"
      ],
      "metadata": {
        "colab": {
          "base_uri": "https://localhost:8080/",
          "height": 449
        },
        "id": "KBMaPStoIQ2C",
        "outputId": "d1aeb45a-735d-40f9-a83c-8f83b6358a64"
      },
      "execution_count": 26,
      "outputs": [
        {
          "output_type": "display_data",
          "data": {
            "text/plain": [
              "<Figure size 640x480 with 1 Axes>"
            ],
            "image/png": "[encoded data removed]"
          },
          "metadata": {}
        }
      ]
    },
    {
      "cell_type": "markdown",
      "source": [
        "## 어텐션을 사용한 신경망"
      ],
      "metadata": {
        "id": "kPz4qa0FWOr6"
      }
    },
    {
      "cell_type": "code",
      "source": [
        "# 인코더와 디코더 사이에 층이 하나 생김\n",
        "# 새로 삽입된 층에는 각 셀로부터 계산된 스코어들이 모임\n",
        "# 이 스코어를 이용해 소프트맥스 함수를 사용해서 어텐션 가중치를 만듦\n",
        "# 이 가중치를 이용해 입력 값중 어떤 셀을 중점적으로 볼지 결정\n",
        "# 이러한 방식으로 매 출력마다 모든 입력 값을 두루 활용하게 하는 것\n",
        "# 마지막 셀에 모든 입력값이 집중되던 RNN의 단점을 극복\n",
        "!pip install attention"
      ],
      "metadata": {
        "colab": {
          "base_uri": "https://localhost:8080/"
        },
        "id": "QIRbzZSLIhl_",
        "outputId": "591932f6-d5cb-4bbc-8918-2a2e314b6a57"
      },
      "execution_count": 1,
      "outputs": [
        {
          "output_type": "stream",
          "name": "stdout",
          "text": [
            "Collecting attention\n",
            "  Downloading attention-5.0.0-py3-none-any.whl (9.0 kB)\n",
            "Requirement already satisfied: numpy>=1.18.1 in /usr/local/lib/python3.10/dist-packages (from attention) (1.25.2)\n",
            "Requirement already satisfied: tensorflow>=2.1 in /usr/local/lib/python3.10/dist-packages (from attention) (2.15.0)\n",
            "Requirement already satisfied: absl-py>=1.0.0 in /usr/local/lib/python3.10/dist-packages (from tensorflow>=2.1->attention) (1.4.0)\n",
            "Requirement already satisfied: astunparse>=1.6.0 in /usr/local/lib/python3.10/dist-packages (from tensorflow>=2.1->attention) (1.6.3)\n",
            "Requirement already satisfied: flatbuffers>=23.5.26 in /usr/local/lib/python3.10/dist-packages (from tensorflow>=2.1->attention) (24.3.25)\n",
            "Requirement already satisfied: gast!=0.5.0,!=0.5.1,!=0.5.2,>=0.2.1 in /usr/local/lib/python3.10/dist-packages (from tensorflow>=2.1->attention) (0.5.4)\n",
            "Requirement already satisfied: google-pasta>=0.1.1 in /usr/local/lib/python3.10/dist-packages (from tensorflow>=2.1->attention) (0.2.0)\n",
            "Requirement already satisfied: h5py>=2.9.0 in /usr/local/lib/python3.10/dist-packages (from tensorflow>=2.1->attention) (3.9.0)\n",
            "Requirement already satisfied: libclang>=13.0.0 in /usr/local/lib/python3.10/dist-packages (from tensorflow>=2.1->attention) (18.1.1)\n",
            "Requirement already satisfied: ml-dtypes~=0.2.0 in /usr/local/lib/python3.10/dist-packages (from tensorflow>=2.1->attention) (0.2.0)\n",
            "Requirement already satisfied: opt-einsum>=2.3.2 in /usr/local/lib/python3.10/dist-packages (from tensorflow>=2.1->attention) (3.3.0)\n",
            "Requirement already satisfied: packaging in /usr/local/lib/python3.10/dist-packages (from tensorflow>=2.1->attention) (24.1)\n",
            "Requirement already satisfied: protobuf!=4.21.0,!=4.21.1,!=4.21.2,!=4.21.3,!=4.21.4,!=4.21.5,<5.0.0dev,>=3.20.3 in /usr/local/lib/python3.10/dist-packages (from tensorflow>=2.1->attention) (3.20.3)\n",
            "Requirement already satisfied: setuptools in /usr/local/lib/python3.10/dist-packages (from tensorflow>=2.1->attention) (67.7.2)\n",
            "Requirement already satisfied: six>=1.12.0 in /usr/local/lib/python3.10/dist-packages (from tensorflow>=2.1->attention) (1.16.0)\n",
            "Requirement already satisfied: termcolor>=1.1.0 in /usr/local/lib/python3.10/dist-packages (from tensorflow>=2.1->attention) (2.4.0)\n",
            "Requirement already satisfied: typing-extensions>=3.6.6 in /usr/local/lib/python3.10/dist-packages (from tensorflow>=2.1->attention) (4.12.2)\n",
            "Requirement already satisfied: wrapt<1.15,>=1.11.0 in /usr/local/lib/python3.10/dist-packages (from tensorflow>=2.1->attention) (1.14.1)\n",
            "Requirement already satisfied: tensorflow-io-gcs-filesystem>=0.23.1 in /usr/local/lib/python3.10/dist-packages (from tensorflow>=2.1->attention) (0.37.0)\n",
            "Requirement already satisfied: grpcio<2.0,>=1.24.3 in /usr/local/lib/python3.10/dist-packages (from tensorflow>=2.1->attention) (1.64.1)\n",
            "Requirement already satisfied: tensorboard<2.16,>=2.15 in /usr/local/lib/python3.10/dist-packages (from tensorflow>=2.1->attention) (2.15.2)\n",
            "Requirement already satisfied: tensorflow-estimator<2.16,>=2.15.0 in /usr/local/lib/python3.10/dist-packages (from tensorflow>=2.1->attention) (2.15.0)\n",
            "Requirement already satisfied: keras<2.16,>=2.15.0 in /usr/local/lib/python3.10/dist-packages (from tensorflow>=2.1->attention) (2.15.0)\n",
            "Requirement already satisfied: wheel<1.0,>=0.23.0 in /usr/local/lib/python3.10/dist-packages (from astunparse>=1.6.0->tensorflow>=2.1->attention) (0.43.0)\n",
            "Requirement already satisfied: google-auth<3,>=1.6.3 in /usr/local/lib/python3.10/dist-packages (from tensorboard<2.16,>=2.15->tensorflow>=2.1->attention) (2.27.0)\n",
            "Requirement already satisfied: google-auth-oauthlib<2,>=0.5 in /usr/local/lib/python3.10/dist-packages (from tensorboard<2.16,>=2.15->tensorflow>=2.1->attention) (1.2.0)\n",
            "Requirement already satisfied: markdown>=2.6.8 in /usr/local/lib/python3.10/dist-packages (from tensorboard<2.16,>=2.15->tensorflow>=2.1->attention) (3.6)\n",
            "Requirement already satisfied: requests<3,>=2.21.0 in /usr/local/lib/python3.10/dist-packages (from tensorboard<2.16,>=2.15->tensorflow>=2.1->attention) (2.31.0)\n",
            "Requirement already satisfied: tensorboard-data-server<0.8.0,>=0.7.0 in /usr/local/lib/python3.10/dist-packages (from tensorboard<2.16,>=2.15->tensorflow>=2.1->attention) (0.7.2)\n",
            "Requirement already satisfied: werkzeug>=1.0.1 in /usr/local/lib/python3.10/dist-packages (from tensorboard<2.16,>=2.15->tensorflow>=2.1->attention) (3.0.3)\n",
            "Requirement already satisfied: cachetools<6.0,>=2.0.0 in /usr/local/lib/python3.10/dist-packages (from google-auth<3,>=1.6.3->tensorboard<2.16,>=2.15->tensorflow>=2.1->attention) (5.3.3)\n",
            "Requirement already satisfied: pyasn1-modules>=0.2.1 in /usr/local/lib/python3.10/dist-packages (from google-auth<3,>=1.6.3->tensorboard<2.16,>=2.15->tensorflow>=2.1->attention) (0.4.0)\n",
            "Requirement already satisfied: rsa<5,>=3.1.4 in /usr/local/lib/python3.10/dist-packages (from google-auth<3,>=1.6.3->tensorboard<2.16,>=2.15->tensorflow>=2.1->attention) (4.9)\n",
            "Requirement already satisfied: requests-oauthlib>=0.7.0 in /usr/local/lib/python3.10/dist-packages (from google-auth-oauthlib<2,>=0.5->tensorboard<2.16,>=2.15->tensorflow>=2.1->attention) (1.3.1)\n",
            "Requirement already satisfied: charset-normalizer<4,>=2 in /usr/local/lib/python3.10/dist-packages (from requests<3,>=2.21.0->tensorboard<2.16,>=2.15->tensorflow>=2.1->attention) (3.3.2)\n",
            "Requirement already satisfied: idna<4,>=2.5 in /usr/local/lib/python3.10/dist-packages (from requests<3,>=2.21.0->tensorboard<2.16,>=2.15->tensorflow>=2.1->attention) (3.7)\n",
            "Requirement already satisfied: urllib3<3,>=1.21.1 in /usr/local/lib/python3.10/dist-packages (from requests<3,>=2.21.0->tensorboard<2.16,>=2.15->tensorflow>=2.1->attention) (2.0.7)\n",
            "Requirement already satisfied: certifi>=2017.4.17 in /usr/local/lib/python3.10/dist-packages (from requests<3,>=2.21.0->tensorboard<2.16,>=2.15->tensorflow>=2.1->attention) (2024.6.2)\n",
            "Requirement already satisfied: MarkupSafe>=2.1.1 in /usr/local/lib/python3.10/dist-packages (from werkzeug>=1.0.1->tensorboard<2.16,>=2.15->tensorflow>=2.1->attention) (2.1.5)\n",
            "Requirement already satisfied: pyasn1<0.7.0,>=0.4.6 in /usr/local/lib/python3.10/dist-packages (from pyasn1-modules>=0.2.1->google-auth<3,>=1.6.3->tensorboard<2.16,>=2.15->tensorflow>=2.1->attention) (0.6.0)\n",
            "Requirement already satisfied: oauthlib>=3.0.0 in /usr/local/lib/python3.10/dist-packages (from requests-oauthlib>=0.7.0->google-auth-oauthlib<2,>=0.5->tensorboard<2.16,>=2.15->tensorflow>=2.1->attention) (3.2.2)\n",
            "Installing collected packages: attention\n",
            "Successfully installed attention-5.0.0\n"
          ]
        }
      ]
    },
    {
      "cell_type": "code",
      "source": [
        "from tensorflow.keras.models import Sequential\n",
        "from tensorflow.keras.layers import Dense, Dropout, Activation, Embedding, LSTM, Conv1D, MaxPooling1D, Flatten\n",
        "from tensorflow.keras.datasets import imdb\n",
        "from tensorflow.keras.preprocessing import sequence\n",
        "from tensorflow.keras.callbacks import EarlyStopping, ModelCheckpoint\n",
        "from attention import Attention\n",
        "\n",
        "import numpy as np\n",
        "import pandas as pd\n",
        "import matplotlib.pyplot as plt\n",
        "import seaborn as sns\n",
        "import warnings\n",
        "warnings.filterwarnings('ignore')\n",
        "\n",
        "# 데이터를 불러와 학습셋 테스트셋 분리\n",
        "(xtrain, ytrain), (xtest, ytest) = imdb.load_data(num_words=5000)\n",
        "\n",
        "# 단어 수 맞추기\n",
        "xtrain = sequence.pad_sequences(xtrain, maxlen=500)\n",
        "xtest = sequence.pad_sequences(xtest, maxlen=500)\n",
        "\n",
        "# 모델 구조 설정\n",
        "model = Sequential()\n",
        "model.add(Embedding(5000, 500))\n",
        "model.add(Dropout(0.5))\n",
        "model.add(LSTM(64, return_sequences=True))\n",
        "# Attention() 사용\n",
        "model.add(Attention())\n",
        "model.add(Dropout(0.5))\n",
        "model.add(Dense(1))\n",
        "model.add(Activation('sigmoid'))\n",
        "\n",
        "# 모델 실행 옵션 설정\n",
        "model.compile(loss= 'binary_crossentropy', optimizer='adam', metrics = ['accuracy'])\n",
        "\n",
        "# 조기 중단 설정\n",
        "early_stopping_callback = EarlyStopping(monitor = 'val_loss', patience = 3)\n",
        "\n",
        "# 모델 실행\n",
        "history = model.fit(xtrain, ytrain, batch_size=40, epochs=100, validation_data = (xtest, ytest), callbacks = [early_stopping_callback])\n",
        "\n",
        "# 테스트 정확도 출력\n",
        "print(\"\\n Test Accuracy : %.4f\" % (model.evaluate(xtest, ytest)[1]))\n",
        "\n",
        "# 학습셋과 테스트셋의 오차\n",
        "y_vloss = history.history['val_loss']\n",
        "y_loss = history.history['loss']\n",
        "\n",
        "# 그래프로 표현\n",
        "x_len = np.arange(len(y_loss))\n",
        "plt.plot(x_len, y_vloss, marker='.', c=\"red\", label=\"Testset_loss\")\n",
        "plt.plot(x_len, y_loss, marker='.', c=\"blue\", label=\"trainset_loss\")\n",
        "\n",
        "# 그래프에 그리드를 주고 레이블 표시\n",
        "plt.legend(loc=\"upper right\")\n",
        "plt.grid()\n",
        "plt.xlabel('epoch')\n",
        "plt.ylabel('loss')\n",
        "plt.show()\n"
      ],
      "metadata": {
        "colab": {
          "base_uri": "https://localhost:8080/",
          "height": 688
        },
        "id": "2DvjBccGZU4E",
        "outputId": "0dcdc022-846c-4349-d2f7-8cea496e96ed"
      },
      "execution_count": 3,
      "outputs": [
        {
          "output_type": "stream",
          "name": "stdout",
          "text": [
            "Epoch 1/100\n",
            "625/625 [==============================] - 55s 85ms/step - loss: 0.3765 - accuracy: 0.8290 - val_loss: 0.2909 - val_accuracy: 0.8812\n",
            "Epoch 2/100\n",
            "625/625 [==============================] - 32s 50ms/step - loss: 0.2313 - accuracy: 0.9075 - val_loss: 0.2750 - val_accuracy: 0.8890\n",
            "Epoch 3/100\n",
            "625/625 [==============================] - 24s 38ms/step - loss: 0.1685 - accuracy: 0.9356 - val_loss: 0.2785 - val_accuracy: 0.8922\n",
            "Epoch 4/100\n",
            "625/625 [==============================] - 24s 38ms/step - loss: 0.1211 - accuracy: 0.9547 - val_loss: 0.3106 - val_accuracy: 0.8864\n",
            "Epoch 5/100\n",
            "625/625 [==============================] - 23s 36ms/step - loss: 0.0860 - accuracy: 0.9680 - val_loss: 0.4249 - val_accuracy: 0.8801\n",
            "782/782 [==============================] - 8s 10ms/step - loss: 0.4249 - accuracy: 0.8801\n",
            "\n",
            " Test Accuracy : 0.8801\n"
          ]
        },
        {
          "output_type": "display_data",
          "data": {
            "text/plain": [
              "<Figure size 640x480 with 1 Axes>"
            ],
            "image/png": "[encoded data removed]"
          },
          "metadata": {}
        }
      ]
    },
    {
      "cell_type": "code",
      "source": [
        "# 어텐션 없는 Test Accuracy : 0.8778\n",
        "# 어텐션 사용 Test Accuracy : 0.8831\n",
        "# 오니??"
      ],
      "metadata": {
        "id": "lXnqPBVAdJQc"
      },
      "execution_count": null,
      "outputs": []
    }
  ]
}