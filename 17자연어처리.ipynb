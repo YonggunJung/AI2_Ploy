{
  "nbformat": 4,
  "nbformat_minor": 0,
  "metadata": {
    "colab": {
      "provenance": [],
      "authorship_tag": "ABX9TyPj6AlkYb2uzAXbR+/sIAL/",
      "include_colab_link": true
    },
    "kernelspec": {
      "name": "python3",
      "display_name": "Python 3"
    },
    "language_info": {
      "name": "python"
    }
  },
  "cells": [
    {
      "cell_type": "markdown",
      "metadata": {
        "id": "view-in-github",
        "colab_type": "text"
      },
      "source": [
        "<a href=\"https://colab.research.google.com/github/YonggunJung/AI2_Ploy/blob/main/17%EC%9E%90%EC%97%B0%EC%96%B4%EC%B2%98%EB%A6%AC.ipynb\" target=\"_parent\"><img src=\"https://colab.research.google.com/assets/colab-badge.svg\" alt=\"Open In Colab\"/></a>"
      ]
    },
    {
      "cell_type": "markdown",
      "source": [
        "## 텍스트 토큰화"
      ],
      "metadata": {
        "id": "rj-6-nbKNomo"
      }
    },
    {
      "cell_type": "code",
      "execution_count": 1,
      "metadata": {
        "colab": {
          "base_uri": "https://localhost:8080/"
        },
        "id": "oA3YUt20Neya",
        "outputId": "415c7c8a-5e5a-48c3-cec3-3787b3a66440"
      },
      "outputs": [
        {
          "output_type": "stream",
          "name": "stdout",
          "text": [
            "\n",
            "원문:\n",
            " 해보지 않으면 해낼 수 없다.\n",
            "\n",
            "토큰화:\n",
            " ['해보지', '않으면', '해낼', '수', '없다']\n"
          ]
        }
      ],
      "source": [
        "# 텍스트 토큰화 (tokenization)\n",
        "from tensorflow.keras.preprocessing.text import text_to_word_sequence\n",
        "\n",
        "# 전처리 할 텍스트\n",
        "text = \"해보지 않으면 해낼 수 없다.\"\n",
        "\n",
        "# 텍스트를 text_to_word_sequence()를 사용하여 토큰화\n",
        "result = text_to_word_sequence(text)\n",
        "print(\"\\n원문:\\n\", text)\n",
        "print(\"\\n토큰화:\\n\", result)"
      ]
    },
    {
      "cell_type": "code",
      "source": [
        "# Tokenizer()함수를 이용해서 단어의 빈도수 계산\n",
        "from tensorflow.keras.preprocessing.text import Tokenizer\n",
        "\n",
        "docs = ['먼저 텍스트의 각 단어를 나누어 토큰화합니다.',\n",
        "        '텍스트의 단어로 토큰화해야 딥러닝에서 인식됩니다.',\n",
        "        '토큰화한 결과는 딥러닝에서 사용할 수 있습니다.'\n",
        "        ]"
      ],
      "metadata": {
        "id": "j9n4T2GLOYR9"
      },
      "execution_count": 9,
      "outputs": []
    },
    {
      "cell_type": "code",
      "source": [
        "# 토큰화 함수\n",
        "token = Tokenizer()\n",
        "# 토큰화 함수에 문장 적용\n",
        "token.fit_on_texts(docs)\n",
        "\n",
        "# 결과 확인\n",
        "print(\"\\n단어 카운트:\\n\", token.word_counts)"
      ],
      "metadata": {
        "colab": {
          "base_uri": "https://localhost:8080/"
        },
        "id": "LK7_aVLgPJ5C",
        "outputId": "5640ef69-d17c-44c0-dffd-b014016bc7e6"
      },
      "execution_count": 10,
      "outputs": [
        {
          "output_type": "stream",
          "name": "stdout",
          "text": [
            "\n",
            "단어 카운트:\n",
            " OrderedDict([('먼저', 1), ('텍스트의', 2), ('각', 1), ('단어를', 1), ('나누어', 1), ('토큰화합니다', 1), ('단어로', 1), ('토큰화해야', 1), ('딥러닝에서', 2), ('인식됩니다', 1), ('토큰화한', 1), ('결과는', 1), ('사용할', 1), ('수', 1), ('있습니다', 1)])\n"
          ]
        }
      ]
    },
    {
      "cell_type": "code",
      "source": [
        "# Document_count()함수를 이용하여 몇 개의 문장이 있는지 확인\n",
        "print(\"\\n문장 카운트 : \", token.document_count)"
      ],
      "metadata": {
        "colab": {
          "base_uri": "https://localhost:8080/"
        },
        "id": "OOwMo93mPcZA",
        "outputId": "8a7636cc-4db5-4d63-b32a-a78fa49b03fe"
      },
      "execution_count": 11,
      "outputs": [
        {
          "output_type": "stream",
          "name": "stdout",
          "text": [
            "\n",
            "문장 카운트 :  3\n"
          ]
        }
      ]
    },
    {
      "cell_type": "code",
      "source": [
        "# word_docs()함수를 통해 각 단어들이 몇 개의 문장에서 나오는지 출력\n",
        "print(\"\\n각 단어가 몇 개의 문장에서 등장했는지 : \", token.word_docs)"
      ],
      "metadata": {
        "colab": {
          "base_uri": "https://localhost:8080/"
        },
        "id": "P3F6SBY3QA_A",
        "outputId": "7f987aab-199b-4940-fa9e-fd0b93b7e962"
      },
      "execution_count": 12,
      "outputs": [
        {
          "output_type": "stream",
          "name": "stdout",
          "text": [
            "\n",
            "각 단어가 몇 개의 문장에서 등장했는지 :  defaultdict(<class 'int'>, {'먼저': 1, '각': 1, '단어를': 1, '토큰화합니다': 1, '텍스트의': 2, '나누어': 1, '단어로': 1, '인식됩니다': 1, '딥러닝에서': 2, '토큰화해야': 1, '수': 1, '결과는': 1, '있습니다': 1, '사용할': 1, '토큰화한': 1})\n"
          ]
        }
      ]
    },
    {
      "cell_type": "code",
      "source": [
        "# word_index()함수를 사용해서 인덱스 값 출력\n",
        "print(\"\\n각 단어에 매겨진 인덱스 값 : \\n\", token.word_index)"
      ],
      "metadata": {
        "colab": {
          "base_uri": "https://localhost:8080/"
        },
        "id": "nxzMsIoqQPIn",
        "outputId": "c0e4188c-f347-4eed-e106-70b7a6a5167f"
      },
      "execution_count": 13,
      "outputs": [
        {
          "output_type": "stream",
          "name": "stdout",
          "text": [
            "\n",
            "각 단어에 매겨진 인덱스 값 : \n",
            " {'텍스트의': 1, '딥러닝에서': 2, '먼저': 3, '각': 4, '단어를': 5, '나누어': 6, '토큰화합니다': 7, '단어로': 8, '토큰화해야': 9, '인식됩니다': 10, '토큰화한': 11, '결과는': 12, '사용할': 13, '수': 14, '있습니다': 15}\n"
          ]
        }
      ]
    },
    {
      "cell_type": "markdown",
      "source": [
        "## 단어 원-핫 인코딩"
      ],
      "metadata": {
        "id": "rMh2OZr1Q532"
      }
    },
    {
      "cell_type": "code",
      "source": [
        "# 단어가 문장의 다른 요소와 어떤 관계를 가지고 있는지 알아보는 방법\n",
        "\n",
        "text = \"오랫동안 꿈꾸는 이는 그 꿈을 닮아간다.\"\n",
        "\n",
        "token = Tokenizer()\n",
        "token.fit_on_texts([text])\n",
        "print(token.word_index)"
      ],
      "metadata": {
        "colab": {
          "base_uri": "https://localhost:8080/"
        },
        "id": "VSEq4OwLQkQv",
        "outputId": "5183a641-da96-4577-d08e-8dccaf37af9d"
      },
      "execution_count": 14,
      "outputs": [
        {
          "output_type": "stream",
          "name": "stdout",
          "text": [
            "{'오랫동안': 1, '꿈꾸는': 2, '이는': 3, '그': 4, '꿈을': 5, '닮아간다': 6}\n"
          ]
        }
      ]
    },
    {
      "cell_type": "code",
      "source": [
        "# texts_to_sequences()함수를 사용해서 토큰의 인덱스만의 배열 만들기\n",
        "x = token.texts_to_sequences([text])\n",
        "print(x)"
      ],
      "metadata": {
        "colab": {
          "base_uri": "https://localhost:8080/"
        },
        "id": "oHutchhbR4Q2",
        "outputId": "7471f6a4-e9e7-41f5-c06d-fd7d5f98f136"
      },
      "execution_count": 15,
      "outputs": [
        {
          "output_type": "stream",
          "name": "stdout",
          "text": [
            "[[1, 2, 3, 4, 5, 6]]\n"
          ]
        }
      ]
    },
    {
      "cell_type": "code",
      "source": [
        "# 인덱스로 원핫 인코딩\n",
        "from tensorflow.keras.utils import to_categorical\n",
        "\n",
        "# 인덱스 수에 하나를 추가해서 원핫 인코딩 배열 만들기\n",
        "word_size = len(token.word_index) + 1\n",
        "x = to_categorical(x, num_classes=word_size)\n",
        "print(x)"
      ],
      "metadata": {
        "colab": {
          "base_uri": "https://localhost:8080/"
        },
        "id": "MopCXvdwSTW_",
        "outputId": "fbb6f33a-2880-4f5d-89c3-17773be09fb2"
      },
      "execution_count": 16,
      "outputs": [
        {
          "output_type": "stream",
          "name": "stdout",
          "text": [
            "[[[0. 1. 0. 0. 0. 0. 0.]\n",
            "  [0. 0. 1. 0. 0. 0. 0.]\n",
            "  [0. 0. 0. 1. 0. 0. 0.]\n",
            "  [0. 0. 0. 0. 1. 0. 0.]\n",
            "  [0. 0. 0. 0. 0. 1. 0.]\n",
            "  [0. 0. 0. 0. 0. 0. 1.]]]\n"
          ]
        }
      ]
    },
    {
      "cell_type": "markdown",
      "source": [
        "## 단어 임베딩"
      ],
      "metadata": {
        "id": "wxxwnRixS4HY"
      }
    },
    {
      "cell_type": "code",
      "source": [
        "# 임베딩(embedding)은 원핫 인코딩으로 길어진 벡터의 길이를 해결 하기위함\n",
        "import cv2\n",
        "from google.colab.patches import cv2_imshow\n",
        "img = cv2.imread('/content/embedding.jpg')\n",
        "cv2_imshow(img)"
      ],
      "metadata": {
        "colab": {
          "base_uri": "https://localhost:8080/",
          "height": 247
        },
        "id": "mfwjwtUES0Nr",
        "outputId": "d6f7ef39-0dd7-40fb-b593-d592f493d9f3"
      },
      "execution_count": 18,
      "outputs": [
        {
          "output_type": "display_data",
          "data": {
            "text/plain": [
              "<PIL.Image.Image image mode=RGB size=658x230>"
            ],
            "image/png": "[encoded data removed]"
          },
          "metadata": {}
        }
      ]
    },
    {
      "cell_type": "code",
      "source": [
        "# Embedding()함수를 사용해 단어 유사도 계산\n",
        "from tensorflow.keras.layers import Embedding\n",
        "from tensorflow.keras.models import Sequential\n",
        "\n",
        "model = Sequential()\n",
        "\n",
        "# Embedding(입력크기, 출력크기)\n",
        "# Embedding(총 단어 수, 벡터 크기)\n",
        "# Embedding(16, 4, input_length=2) 이면 총 입력 값은 16개이지만 매번 두 개씩만 넣겠다는 의미\n",
        "model.add(Embedding(16, 4))"
      ],
      "metadata": {
        "id": "Sq4qnab9T80U"
      },
      "execution_count": 19,
      "outputs": []
    },
    {
      "cell_type": "markdown",
      "source": [
        "## 텍스트 긍/부정 예측"
      ],
      "metadata": {
        "id": "PfxAq30SVRWd"
      }
    },
    {
      "cell_type": "code",
      "source": [
        "import numpy as np\n",
        "# 텍스트 리뷰 자료 지정\n",
        "docs = ['너무 재밌네요', '최고예요', '참 잘 만든 영화에요', '추천하고 싶은 영화입니다.',\n",
        "        '한 번 더 보고싶네요', '글쎄요', '별로예요', '생각보다 지루하네요',\n",
        "        '연기가 어색해요', '재미없어요']\n",
        "\n",
        "# 긍정 리뷰는 1, 부정리뷰는 0으로 클래스 지정\n",
        "c = np.array([1, 1, 1, 1, 1, 0, 0, 0, 0, 0])"
      ],
      "metadata": {
        "id": "01z2COSJUs3_"
      },
      "execution_count": 22,
      "outputs": []
    },
    {
      "cell_type": "code",
      "source": [
        "# Tokenizer()함수의 fit_on_texts를 이용해 토큰화\n",
        "token = Tokenizer()\n",
        "token.fit_on_texts(docs)\n",
        "print(token.word_index)"
      ],
      "metadata": {
        "colab": {
          "base_uri": "https://localhost:8080/"
        },
        "id": "fokXr9CYW-Nl",
        "outputId": "04f5b579-f793-44cf-fb5f-8da88c9d8d44"
      },
      "execution_count": 23,
      "outputs": [
        {
          "output_type": "stream",
          "name": "stdout",
          "text": [
            "{'너무': 1, '재밌네요': 2, '최고예요': 3, '참': 4, '잘': 5, '만든': 6, '영화에요': 7, '추천하고': 8, '싶은': 9, '영화입니다': 10, '한': 11, '번': 12, '더': 13, '보고싶네요': 14, '글쎄요': 15, '별로예요': 16, '생각보다': 17, '지루하네요': 18, '연기가': 19, '어색해요': 20, '재미없어요': 21}\n"
          ]
        }
      ]
    },
    {
      "cell_type": "code",
      "source": [
        "# 토큰에 지정된 인덱스로 새로운 배열 생성\n",
        "x = token.texts_to_sequences(docs)\n",
        "print(\"\\n리뷰 텍스트, 토큰화 결과 :\\n\", x)"
      ],
      "metadata": {
        "colab": {
          "base_uri": "https://localhost:8080/"
        },
        "id": "OtBTQJVoXl_X",
        "outputId": "75c82687-4534-40d1-990a-4398723ff45e"
      },
      "execution_count": 25,
      "outputs": [
        {
          "output_type": "stream",
          "name": "stdout",
          "text": [
            "\n",
            "리뷰 텍스트, 토큰화 결과 :\n",
            " [[1, 2], [3], [4, 5, 6, 7], [8, 9, 10], [11, 12, 13, 14], [15], [16], [17, 18], [19, 20], [21]]\n"
          ]
        }
      ]
    },
    {
      "cell_type": "code",
      "source": [
        "# 패딩(padding)은 토큰을 길이를 똑같이 맞춰주기 위함\n",
        "# pad_sequences()함수는 케라스에서 제공\n",
        "# 길이가 짧은 건 숫자 0을 채우고, 긴 건 잘라서 맞춤\n",
        "from tensorflow.keras.preprocessing.sequence import pad_sequences\n",
        "\n",
        "padded_x = pad_sequences(x, 4)\n",
        "print(\"\\n 패딩 결과 : \\n\", padded_x)"
      ],
      "metadata": {
        "colab": {
          "base_uri": "https://localhost:8080/"
        },
        "id": "eJwBvjXBX5Qo",
        "outputId": "b23c01cc-bd9d-4f79-b2be-93789b0594c4"
      },
      "execution_count": 31,
      "outputs": [
        {
          "output_type": "stream",
          "name": "stdout",
          "text": [
            "\n",
            " 패딩 결과 : \n",
            " [[ 0  0  1  2]\n",
            " [ 0  0  0  3]\n",
            " [ 4  5  6  7]\n",
            " [ 0  8  9 10]\n",
            " [11 12 13 14]\n",
            " [ 0  0  0 15]\n",
            " [ 0  0  0 16]\n",
            " [ 0  0 17 18]\n",
            " [ 0  0 19 20]\n",
            " [ 0  0  0 21]]\n"
          ]
        }
      ]
    },
    {
      "cell_type": "code",
      "source": [
        "# 총 입력 인덱스 갯수 정하기\n",
        "# 단어의 맨 앞에 0이 먼저 나와야 하므로 총 단어 수에 1을 더해야 함\n",
        "word_size = len(token.word_index) +1"
      ],
      "metadata": {
        "id": "iL6C-osJYrP_"
      },
      "execution_count": 32,
      "outputs": []
    },
    {
      "cell_type": "code",
      "source": [
        "# 출력값, 즉 몇개의 임베딩 결과를 사용할지 정하기\n",
        "# 8개의 결과로 정하겠음 (맘대로 정한거임) 데이터에 따라 적절하게 변환\n",
        "# 만들어진 8개의 결과는 우리 눈에 안보임\n",
        "# 내부에서 계산해 딥러닝층으로 활용\n",
        "# 매번 입력될 '단어 수 ' 정하기\n",
        "# 패딩 과정을 거쳐 네 개의 길이로 맞추어 주었으므로 네 개의 단어가 들어가게 설정\n",
        "Embedding(word_size, 8, input_length=4)\n"
      ],
      "metadata": {
        "colab": {
          "base_uri": "https://localhost:8080/"
        },
        "id": "_W7oVGIXZ3UP",
        "outputId": "7551d4f8-755e-4356-953b-a03068113020"
      },
      "execution_count": 33,
      "outputs": [
        {
          "output_type": "execute_result",
          "data": {
            "text/plain": [
              "<keras.src.layers.core.embedding.Embedding at 0x794b46a3bb80>"
            ]
          },
          "metadata": {},
          "execution_count": 33
        }
      ]
    },
    {
      "cell_type": "code",
      "source": [
        "from tensorflow.keras.models import Sequential\n",
        "from tensorflow.keras.layers import Embedding, Dense, Flatten\n",
        "from tensorflow.keras.optimizers import Adam\n",
        "\n",
        "# 모델 만들기\n",
        "model = Sequential()\n",
        "model.add(Embedding(word_size, 8, input_length=4))\n",
        "model.add(Flatten())\n",
        "model.add(Dense(1, activation='sigmoid'))\n",
        "\n",
        "model.compile(optimizer='Adam', loss='binary_crossentropy', metrics=['accuracy'])\n",
        "model.fit(padded_x, c, epochs=20)\n",
        "print(\"\\n Accuracy : %.4f\" % (model.evaluate(padded_x, c)[1]))"
      ],
      "metadata": {
        "colab": {
          "base_uri": "https://localhost:8080/"
        },
        "id": "blPsi1rhatKc",
        "outputId": "4d884a1c-6420-4cbf-cb57-6cdf2b036c31"
      },
      "execution_count": 37,
      "outputs": [
        {
          "output_type": "stream",
          "name": "stdout",
          "text": [
            "Epoch 1/20\n",
            "1/1 [==============================] - 1s 856ms/step - loss: 0.6972 - accuracy: 0.4000\n",
            "Epoch 2/20\n",
            "1/1 [==============================] - 0s 12ms/step - loss: 0.6951 - accuracy: 0.4000\n",
            "Epoch 3/20\n",
            "1/1 [==============================] - 0s 13ms/step - loss: 0.6929 - accuracy: 0.4000\n",
            "Epoch 4/20\n",
            "1/1 [==============================] - 0s 13ms/step - loss: 0.6908 - accuracy: 0.5000\n",
            "Epoch 5/20\n",
            "1/1 [==============================] - 0s 13ms/step - loss: 0.6887 - accuracy: 0.5000\n",
            "Epoch 6/20\n",
            "1/1 [==============================] - 0s 12ms/step - loss: 0.6866 - accuracy: 0.6000\n",
            "Epoch 7/20\n",
            "1/1 [==============================] - 0s 12ms/step - loss: 0.6845 - accuracy: 0.8000\n",
            "Epoch 8/20\n",
            "1/1 [==============================] - 0s 12ms/step - loss: 0.6825 - accuracy: 0.8000\n",
            "Epoch 9/20\n",
            "1/1 [==============================] - 0s 14ms/step - loss: 0.6804 - accuracy: 0.9000\n",
            "Epoch 10/20\n",
            "1/1 [==============================] - 0s 15ms/step - loss: 0.6783 - accuracy: 0.9000\n",
            "Epoch 11/20\n",
            "1/1 [==============================] - 0s 14ms/step - loss: 0.6762 - accuracy: 0.9000\n",
            "Epoch 12/20\n",
            "1/1 [==============================] - 0s 13ms/step - loss: 0.6741 - accuracy: 0.9000\n",
            "Epoch 13/20\n",
            "1/1 [==============================] - 0s 10ms/step - loss: 0.6721 - accuracy: 0.9000\n",
            "Epoch 14/20\n",
            "1/1 [==============================] - 0s 12ms/step - loss: 0.6700 - accuracy: 0.9000\n",
            "Epoch 15/20\n",
            "1/1 [==============================] - 0s 13ms/step - loss: 0.6679 - accuracy: 0.9000\n",
            "Epoch 16/20\n",
            "1/1 [==============================] - 0s 11ms/step - loss: 0.6658 - accuracy: 0.9000\n",
            "Epoch 17/20\n",
            "1/1 [==============================] - 0s 12ms/step - loss: 0.6637 - accuracy: 0.9000\n",
            "Epoch 18/20\n",
            "1/1 [==============================] - 0s 12ms/step - loss: 0.6616 - accuracy: 0.9000\n",
            "Epoch 19/20\n",
            "1/1 [==============================] - 0s 12ms/step - loss: 0.6594 - accuracy: 0.9000\n",
            "Epoch 20/20\n",
            "1/1 [==============================] - 0s 15ms/step - loss: 0.6573 - accuracy: 0.9000\n",
            "1/1 [==============================] - 0s 242ms/step - loss: 0.6552 - accuracy: 0.9000\n",
            "\n",
            " Accuracy : 0.9000\n"
          ]
        }
      ]
    },
    {
      "cell_type": "code",
      "source": [
        "import numpy as np\n",
        "\n",
        "from tensorflow.keras.preprocessing.text import Tokenizer\n",
        "from tensorflow.keras.preprocessing.sequence import pad_sequences\n",
        "from tensorflow.keras.models import Sequential\n",
        "from tensorflow.keras.layers import Embedding, Dense, Flatten\n",
        "from tensorflow.keras.utils import to_categorical\n",
        "\n",
        "# 텍스트 리뷰 자료 지정\n",
        "docs = ['너무 재밌네요', '최고예요', '참 잘 만든 영화에요', '추천하고 싶은 영화입니다.',\n",
        "        '한 번 더 보고싶네요', '글쎄요', '별로예요', '생각보다 지루하네요',\n",
        "        '연기가 어색해요', '재미없어요']\n",
        "\n",
        "# 긍정 리뷰는 1, 부정리뷰는 0으로 클래스 지정\n",
        "c = np.array([1, 1, 1, 1, 1, 0, 0, 0, 0, 0])\n",
        "\n",
        "# 토큰화\n",
        "token = Tokenizer()\n",
        "token.fit_on_texts(docs)\n",
        "print(token.word_index)\n",
        "\n",
        "x= token.texts_to_sequences(docs)\n",
        "print(\"\\n리뷰 텍스트, 토큰화 결과:\\n\", x)\n",
        "\n",
        "# 패딩, 데이터를 길이를 4로 맞추기\n",
        "padded_x = pad_sequences(x, 4)\n",
        "print(\"\\n 패딩 결과 :\\n\", padded_x)\n",
        "\n",
        "# 임베딩에 입력될 단어의 수를 지정\n",
        "word_size = len(token.word_index) +1\n",
        "\n",
        "# 단어 임베딩을 포함해 딥러닝 모델을 만들고 결과를 출력\n",
        "model = Sequential()\n",
        "model.add(Embedding(word_size, 8, input_length=4))\n",
        "model.add(Flatten())\n",
        "model.add(Dense(1, activation='sigmoid'))\n",
        "model.summary()\n",
        "\n",
        "# 모델 컴파일\n",
        "model.compile(optimizer='Adam', loss='binary_crossentropy', metrics=['accuracy'])\n",
        "model.fit(padded_x, c, epochs=20)\n",
        "print('\\n Accuracy : %.4f' % (model.evaluate(padded_x, c)[1]))\n",
        "print('\\n Accuracy :', model.evaluate(padded_x, c))"
      ],
      "metadata": {
        "colab": {
          "base_uri": "https://localhost:8080/"
        },
        "id": "rBDS2tLnb0rd",
        "outputId": "658464c3-b4b7-4eb6-c23d-9d4f078589b6"
      },
      "execution_count": 40,
      "outputs": [
        {
          "output_type": "stream",
          "name": "stdout",
          "text": [
            "{'너무': 1, '재밌네요': 2, '최고예요': 3, '참': 4, '잘': 5, '만든': 6, '영화에요': 7, '추천하고': 8, '싶은': 9, '영화입니다': 10, '한': 11, '번': 12, '더': 13, '보고싶네요': 14, '글쎄요': 15, '별로예요': 16, '생각보다': 17, '지루하네요': 18, '연기가': 19, '어색해요': 20, '재미없어요': 21}\n",
            "\n",
            "리뷰 텍스트, 토큰화 결과:\n",
            " [[1, 2], [3], [4, 5, 6, 7], [8, 9, 10], [11, 12, 13, 14], [15], [16], [17, 18], [19, 20], [21]]\n",
            "\n",
            " 패딩 결과 :\n",
            " [[ 0  0  1  2]\n",
            " [ 0  0  0  3]\n",
            " [ 4  5  6  7]\n",
            " [ 0  8  9 10]\n",
            " [11 12 13 14]\n",
            " [ 0  0  0 15]\n",
            " [ 0  0  0 16]\n",
            " [ 0  0 17 18]\n",
            " [ 0  0 19 20]\n",
            " [ 0  0  0 21]]\n",
            "Model: \"sequential_6\"\n",
            "_________________________________________________________________\n",
            " Layer (type)                Output Shape              Param #   \n",
            "=================================================================\n",
            " embedding_7 (Embedding)     (None, 4, 8)              176       \n",
            "                                                                 \n",
            " flatten_5 (Flatten)         (None, 32)                0         \n",
            "                                                                 \n",
            " dense_5 (Dense)             (None, 1)                 33        \n",
            "                                                                 \n",
            "=================================================================\n",
            "Total params: 209 (836.00 Byte)\n",
            "Trainable params: 209 (836.00 Byte)\n",
            "Non-trainable params: 0 (0.00 Byte)\n",
            "_________________________________________________________________\n",
            "Epoch 1/20\n",
            "1/1 [==============================] - 1s 717ms/step - loss: 0.7021 - accuracy: 0.3000\n",
            "Epoch 2/20\n",
            "1/1 [==============================] - 0s 10ms/step - loss: 0.7000 - accuracy: 0.3000\n",
            "Epoch 3/20\n",
            "1/1 [==============================] - 0s 10ms/step - loss: 0.6978 - accuracy: 0.5000\n",
            "Epoch 4/20\n",
            "1/1 [==============================] - 0s 9ms/step - loss: 0.6956 - accuracy: 0.5000\n",
            "Epoch 5/20\n",
            "1/1 [==============================] - 0s 12ms/step - loss: 0.6935 - accuracy: 0.5000\n",
            "Epoch 6/20\n",
            "1/1 [==============================] - 0s 13ms/step - loss: 0.6914 - accuracy: 0.6000\n",
            "Epoch 7/20\n",
            "1/1 [==============================] - 0s 12ms/step - loss: 0.6892 - accuracy: 0.6000\n",
            "Epoch 8/20\n",
            "1/1 [==============================] - 0s 12ms/step - loss: 0.6871 - accuracy: 0.6000\n",
            "Epoch 9/20\n",
            "1/1 [==============================] - 0s 12ms/step - loss: 0.6850 - accuracy: 0.7000\n",
            "Epoch 10/20\n",
            "1/1 [==============================] - 0s 12ms/step - loss: 0.6829 - accuracy: 0.7000\n",
            "Epoch 11/20\n",
            "1/1 [==============================] - 0s 15ms/step - loss: 0.6807 - accuracy: 0.7000\n",
            "Epoch 12/20\n",
            "1/1 [==============================] - 0s 16ms/step - loss: 0.6786 - accuracy: 0.7000\n",
            "Epoch 13/20\n",
            "1/1 [==============================] - 0s 12ms/step - loss: 0.6765 - accuracy: 0.7000\n",
            "Epoch 14/20\n",
            "1/1 [==============================] - 0s 12ms/step - loss: 0.6744 - accuracy: 0.7000\n",
            "Epoch 15/20\n",
            "1/1 [==============================] - 0s 12ms/step - loss: 0.6723 - accuracy: 0.7000\n",
            "Epoch 16/20\n",
            "1/1 [==============================] - 0s 15ms/step - loss: 0.6702 - accuracy: 0.9000\n",
            "Epoch 17/20\n",
            "1/1 [==============================] - 0s 13ms/step - loss: 0.6681 - accuracy: 0.9000\n",
            "Epoch 18/20\n",
            "1/1 [==============================] - 0s 16ms/step - loss: 0.6659 - accuracy: 1.0000\n",
            "Epoch 19/20\n",
            "1/1 [==============================] - 0s 12ms/step - loss: 0.6638 - accuracy: 1.0000\n",
            "Epoch 20/20\n",
            "1/1 [==============================] - 0s 13ms/step - loss: 0.6617 - accuracy: 1.0000\n",
            "1/1 [==============================] - 0s 178ms/step - loss: 0.6595 - accuracy: 1.0000\n",
            "\n",
            " Accuracy : 1.0000\n",
            "1/1 [==============================] - 0s 30ms/step - loss: 0.6595 - accuracy: 1.0000\n",
            "\n",
            " Accuracy : [0.6595471501350403, 1.0]\n"
          ]
        }
      ]
    },
    {
      "cell_type": "code",
      "source": [
        "# Accuracy : [0.6595471501350403, 1.0]\n",
        "# 앞에껀 손실값, 뒤에께 정확도\n",
        "# 학습까지만 함 예측은 안했음"
      ],
      "metadata": {
        "id": "pbcBzwbteL-K"
      },
      "execution_count": null,
      "outputs": []
    }
  ]
}